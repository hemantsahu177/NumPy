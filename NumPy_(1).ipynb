{
  "cells": [
    {
      "cell_type": "markdown",
      "metadata": {
        "id": "view-in-github",
        "colab_type": "text"
      },
      "source": [
        "<a href=\"https://colab.research.google.com/github/hemantsahu177/NumPy/blob/main/NumPy_(1).ipynb\" target=\"_parent\"><img src=\"https://colab.research.google.com/assets/colab-badge.svg\" alt=\"Open In Colab\"/></a>"
      ]
    },
    {
      "cell_type": "code",
      "execution_count": 1,
      "id": "82839147-1d4b-48cb-8239-21be4c053574",
      "metadata": {
        "colab": {
          "base_uri": "https://localhost:8080/"
        },
        "id": "82839147-1d4b-48cb-8239-21be4c053574",
        "outputId": "6b6e6ece-d6e0-4f8a-aeb3-75d018445e3e"
      },
      "outputs": [
        {
          "output_type": "stream",
          "name": "stdout",
          "text": [
            "Array: [0 1 2 3 4 5]\n",
            "Data type:  int64\n"
          ]
        }
      ],
      "source": [
        "# 1. Create a NumPy array 'arr' of integers from 0 to 5 and print its data type.\n",
        "\n",
        "# Code\n",
        "\n",
        "import numpy as np\n",
        "arr=np.arange(6)\n",
        "print(\"Array:\",arr)\n",
        "print(\"Data type: \", arr.dtype)"
      ]
    },
    {
      "cell_type": "code",
      "execution_count": 2,
      "id": "a88329f9-f53e-4810-9ab2-ceb212b4a81a",
      "metadata": {
        "colab": {
          "base_uri": "https://localhost:8080/"
        },
        "id": "a88329f9-f53e-4810-9ab2-ceb212b4a81a",
        "outputId": "2573b964-04aa-4d79-9e74-fda4a0053e16"
      },
      "outputs": [
        {
          "output_type": "stream",
          "name": "stdout",
          "text": [
            "The data type of the array is float64.\n"
          ]
        }
      ],
      "source": [
        "# 2. Given a NumPy array 'arr', check if its data type is float64.\n",
        "# arr = np.array([1.5, 2.6, 3.7])\n",
        "\n",
        "# code\n",
        "import numpy as np\n",
        "arr = np.array([1.5, 2.6, 3.7])\n",
        "arr.dtype\n",
        "if arr.dtype==np.float64:\n",
        "    print(\"The data type of the array is float64.\")\n",
        "else:\n",
        "    print(\"The data type of the array is not float64.\")"
      ]
    },
    {
      "cell_type": "code",
      "execution_count": 3,
      "id": "27db6ea2-e119-40a9-9514-a27c43512f2c",
      "metadata": {
        "colab": {
          "base_uri": "https://localhost:8080/"
        },
        "id": "27db6ea2-e119-40a9-9514-a27c43512f2c",
        "outputId": "13259d1a-3574-4e09-a0ce-b8cff5ff8659"
      },
      "outputs": [
        {
          "output_type": "stream",
          "name": "stdout",
          "text": [
            "Array [2.+3.j 9.+4.j 1.+2.j]\n",
            "Data type: complex128\n"
          ]
        }
      ],
      "source": [
        "#  3. Create a NumPy array 'arr' with a data type of complex128 containing three complex numbers\n",
        "\n",
        "# code\n",
        "\n",
        "import numpy as np\n",
        "complex_num=[2+3j,9+4j,1+2j]\n",
        "arr=np.array(complex_num,dtype=np.complex128)\n",
        "\n",
        "print(\"Array\",arr)\n",
        "print(\"Data type:\",arr.dtype)"
      ]
    },
    {
      "cell_type": "code",
      "execution_count": 4,
      "id": "031f3f43-0560-442c-9f2d-660f2540ef87",
      "metadata": {
        "colab": {
          "base_uri": "https://localhost:8080/"
        },
        "id": "031f3f43-0560-442c-9f2d-660f2540ef87",
        "outputId": "4403ef2e-d550-4627-afd4-6c62c2f4e15a"
      },
      "outputs": [
        {
          "output_type": "stream",
          "name": "stdout",
          "text": [
            "[1. 2. 3. 4. 5.]\n"
          ]
        }
      ],
      "source": [
        "# 4. Convert an existing NumPy array 'arr' of integers to float32 data type\n",
        "\n",
        "# code\n",
        "\n",
        "\n",
        "import numpy as np\n",
        "\n",
        "arr = np.array([1, 2, 3, 4, 5])\n",
        "arr_float32 = arr.astype(np.float32)\n",
        "\n",
        "print(arr_float32)\n"
      ]
    },
    {
      "cell_type": "code",
      "execution_count": 5,
      "id": "ed100805-c8a6-487b-b075-773fd50621f2",
      "metadata": {
        "colab": {
          "base_uri": "https://localhost:8080/"
        },
        "id": "ed100805-c8a6-487b-b075-773fd50621f2",
        "outputId": "3a4c276c-92a6-4df1-ffb6-5dc59dd15e02"
      },
      "outputs": [
        {
          "output_type": "stream",
          "name": "stdout",
          "text": [
            "[1.1234567 2.1234567 3.1234567]\n"
          ]
        }
      ],
      "source": [
        "#  5. Given a NumPy array 'arr' with float64 data type, convert it to float32 to reduce decimal precision.\n",
        "\n",
        "# Code\n",
        "\n",
        "import numpy as np\n",
        "\n",
        "arr = np.array([1.1234567, 2.1234567, 3.1234567], dtype=np.float64)\n",
        "\n",
        "arr_float32 = arr.astype(np.float32)\n",
        "\n",
        "print(arr_float32)\n"
      ]
    },
    {
      "cell_type": "code",
      "execution_count": 6,
      "id": "28e42bf6-f2e6-4772-b017-8a42ce7d0fd7",
      "metadata": {
        "colab": {
          "base_uri": "https://localhost:8080/"
        },
        "id": "28e42bf6-f2e6-4772-b017-8a42ce7d0fd7",
        "outputId": "1a08f729-891d-44f6-c633-b33ee125d122"
      },
      "outputs": [
        {
          "output_type": "stream",
          "name": "stdout",
          "text": [
            "shape: 5\n",
            "size: (5,)\n",
            "data type: int64\n"
          ]
        }
      ],
      "source": [
        "#  6. Write a function array_attributes that takes a NumPy array as input and returns its shape, size, and data type.\n",
        "\n",
        "# CODE\n",
        "\n",
        "import numpy as np\n",
        "\n",
        "def array_attributes(arr):\n",
        "    size=np.shape(arr)\n",
        "    shape=np.size(arr)\n",
        "    data_type = arr.dtype\n",
        "    return size,shape,data_type\n",
        "arr=np.array([1,2,3,4,5])\n",
        "size,shape,data_type=array_attributes(arr)\n",
        "print(\"shape:\",shape)\n",
        "print(\"size:\",size)\n",
        "print(\"data type:\",data_type)"
      ]
    },
    {
      "cell_type": "code",
      "execution_count": 7,
      "id": "5103f781-a5ff-4e54-86c1-24ab4d79d285",
      "metadata": {
        "colab": {
          "base_uri": "https://localhost:8080/"
        },
        "id": "5103f781-a5ff-4e54-86c1-24ab4d79d285",
        "outputId": "45f61013-8b63-4136-ebd6-4f9c3fd87a84"
      },
      "outputs": [
        {
          "output_type": "stream",
          "name": "stdout",
          "text": [
            "Dimensionality: 2\n"
          ]
        }
      ],
      "source": [
        "# 7. Create a function array_dimension that takes a NumPy array as input and returns its dimensionality\n",
        "\n",
        "# code\n",
        "import numpy as np\n",
        "\n",
        "def array_dimension (arr):\n",
        "    dimension =arr.ndim\n",
        "    return dimension\n",
        "arr=np.array([[1,2,3],[4,5,6]])\n",
        "dimension =array_dimension(arr)\n",
        "print(\"Dimensionality:\",dimension)\n",
        "\n"
      ]
    },
    {
      "cell_type": "code",
      "execution_count": 8,
      "id": "284e23c4-3b99-4d03-bf08-17cd2e67c799",
      "metadata": {
        "colab": {
          "base_uri": "https://localhost:8080/"
        },
        "id": "284e23c4-3b99-4d03-bf08-17cd2e67c799",
        "outputId": "a46a3b2d-93da-4672-8269-a6a29b013d3a"
      },
      "outputs": [
        {
          "output_type": "stream",
          "name": "stdout",
          "text": [
            "Item size: 8 bytes\n",
            "Total size: 40 bytes\n"
          ]
        }
      ],
      "source": [
        "# 8. Design a function item_size_info that takes a NumPy array as input and returns the item size and the total size in bytes.\n",
        "\n",
        "# Code\n",
        "\n",
        "import numpy as np\n",
        "\n",
        "def item_size_info(arr):\n",
        "    if isinstance(arr, np.ndarray):\n",
        "        item_size = arr.itemsize\n",
        "        total_size = arr.nbytes\n",
        "        print(f\"Item size: {item_size} bytes\")\n",
        "        print(f\"Total size: {total_size} bytes\")\n",
        "    else:\n",
        "        print(\"Invalid input. Please provide a NumPy array.\")\n",
        "\n",
        "arr = np.array([1, 2, 3, 4, 5])\n",
        "item_size_info(arr)"
      ]
    },
    {
      "cell_type": "code",
      "execution_count": 9,
      "id": "7e20ad7e-9c5c-43c1-93fd-ef354bea347b",
      "metadata": {
        "colab": {
          "base_uri": "https://localhost:8080/"
        },
        "id": "7e20ad7e-9c5c-43c1-93fd-ef354bea347b",
        "outputId": "8b282efa-063e-4d0b-c32e-bfbf8715f4be"
      },
      "outputs": [
        {
          "output_type": "stream",
          "name": "stdout",
          "text": [
            "(24, 8)\n"
          ]
        }
      ],
      "source": [
        "# 9. Create a function array_strides that takes a NumPy array as input and returns the strides of the array.\n",
        "\n",
        "# Code\n",
        "\n",
        "import numpy as np\n",
        "\n",
        "def array_strides(input_array):\n",
        "    if isinstance(input_array, np.ndarray):\n",
        "        return input_array.strides\n",
        "    else:\n",
        "        raise ValueError(\"Input is not a NumPy array\")\n",
        "\n",
        "my_array = np.array([[1, 2, 3], [4, 5, 6], [7, 8, 9]])\n",
        "print(array_strides(my_array))"
      ]
    },
    {
      "cell_type": "code",
      "execution_count": 10,
      "id": "c4afa038-6d3c-4070-b3c6-153ae3d4ce2a",
      "metadata": {
        "colab": {
          "base_uri": "https://localhost:8080/"
        },
        "id": "c4afa038-6d3c-4070-b3c6-153ae3d4ce2a",
        "outputId": "cf9c830c-d3fe-4fe7-e3b9-2d349ce443d7"
      },
      "outputs": [
        {
          "output_type": "stream",
          "name": "stdout",
          "text": [
            "My array:\n",
            "[[1 2 3]\n",
            " [4 5 6]]\n",
            "\n",
            "Strides of my array:\n",
            "(24, 8)\n"
          ]
        }
      ],
      "source": [
        "# 10. Design a function shape_stride_relationship that takes a NumPy array as input and returns the shape and strides of the array.\n",
        "\n",
        "\n",
        "# Code\n",
        "\n",
        "import numpy as np\n",
        "\n",
        "def array_strides(input_array):\n",
        "    if isinstance(input_array, np.ndarray):\n",
        "        return input_array.strides\n",
        "    else:\n",
        "        raise ValueError(\"Input is not a NumPy array\")\n",
        "\n",
        "my_array = np.array([[1, 2, 3], [4, 5, 6]])\n",
        "print(\"My array:\")\n",
        "print(my_array)\n",
        "print(\"\\nStrides of my array:\")\n",
        "print(array_strides(my_array))\n"
      ]
    },
    {
      "cell_type": "code",
      "execution_count": 12,
      "id": "87ec7c15-3a0c-4e2e-b45f-5e39241a4949",
      "metadata": {
        "colab": {
          "base_uri": "https://localhost:8080/"
        },
        "id": "87ec7c15-3a0c-4e2e-b45f-5e39241a4949",
        "outputId": "d175bdca-6509-4e68-c2db-f94e475ed594"
      },
      "outputs": [
        {
          "output_type": "stream",
          "name": "stdout",
          "text": [
            "5\n",
            "[0. 0. 0. 0. 0.]\n"
          ]
        }
      ],
      "source": [
        "#  11. Create a function `create_zeros_array` that takes an integer `n` as input and returns a NumPy array of zeros with `n` elements.\n",
        "\n",
        "\n",
        "\n",
        "# Code\n",
        "\n",
        "import numpy as np\n",
        "\n",
        "def create_zeros_array(n):\n",
        "\n",
        "    return np.zeros(n)\n",
        "\n",
        "print(create_zeros_array(int(input())))\n"
      ]
    },
    {
      "cell_type": "code",
      "execution_count": 14,
      "id": "7ba43d0a-d802-422f-aa61-5bb46bf71f9b",
      "metadata": {
        "colab": {
          "base_uri": "https://localhost:8080/"
        },
        "id": "7ba43d0a-d802-422f-aa61-5bb46bf71f9b",
        "outputId": "8d99b98a-ab93-4733-8df2-94b0f333f336"
      },
      "outputs": [
        {
          "output_type": "stream",
          "name": "stdout",
          "text": [
            "[[1. 1. 1.]\n",
            " [1. 1. 1.]]\n"
          ]
        }
      ],
      "source": [
        "#  12. Write a function `create_ones_matrix` that takes integers `rows` and `cols` as inputs and generates a 2D NumPy array filled with ones of size `rows x cols`\n",
        "\n",
        "# Code\n",
        "import numpy as np\n",
        "\n",
        "def create_ones_matrix(rows, cols):\n",
        "    return np.ones((rows, cols))\n",
        "\n",
        "rows = 2\n",
        "cols = 3\n",
        "ones_matrix = create_ones_matrix(rows, cols)\n",
        "print(ones_matrix)\n",
        "\n"
      ]
    },
    {
      "cell_type": "code",
      "execution_count": 15,
      "id": "b14a3158-cd69-46c7-b1f2-cc50e2335fa2",
      "metadata": {
        "colab": {
          "base_uri": "https://localhost:8080/"
        },
        "id": "b14a3158-cd69-46c7-b1f2-cc50e2335fa2",
        "outputId": "3edaaf49-f5b9-457a-8f2f-2197001bd0c7"
      },
      "outputs": [
        {
          "output_type": "stream",
          "name": "stdout",
          "text": [
            "[0 2 4 6 8]\n"
          ]
        }
      ],
      "source": [
        "#  13. Write a function `generate_range_array` that takes three integers start, stop, and step as arguments and creates a NumPy array with a range starting from `start`, ending at stop (exclusive), and with the specified step`.\n",
        "\n",
        "\n",
        "# code\n",
        "\n",
        "import numpy as np\n",
        "\n",
        "def generate_range_array(start, stop, step):\n",
        "    return np.arange(start, stop, step)\n",
        "\n",
        "start = 0\n",
        "stop = 10\n",
        "step = 2\n",
        "range_array = generate_range_array(start, stop, step)\n",
        "print(range_array)\n"
      ]
    },
    {
      "cell_type": "code",
      "execution_count": 16,
      "id": "1169a381-be94-46f8-b67a-c14b3c153ac3",
      "metadata": {
        "colab": {
          "base_uri": "https://localhost:8080/"
        },
        "id": "1169a381-be94-46f8-b67a-c14b3c153ac3",
        "outputId": "c15da3a6-1712-44d9-9171-2ba9b22ecfb1"
      },
      "outputs": [
        {
          "output_type": "stream",
          "name": "stdout",
          "text": [
            "[0.   0.25 0.5  0.75 1.  ]\n"
          ]
        }
      ],
      "source": [
        "#  14. Design a function `generate_linear_space` that takes two floats `start`, `stop`, and an integer `num` as  arguments and generates a NumPy array with num equally spaced values between `start` and `stop` (inclusive).\n",
        "\n",
        "\n",
        "# code\n",
        "\n",
        "import numpy as np\n",
        "\n",
        "def generate_linear_space(start, stop, num):\n",
        "    return np.linspace(start, stop, num)\n",
        "\n",
        "# Example usage:\n",
        "start = 0.0\n",
        "stop = 1.0\n",
        "num = 5\n",
        "linear_space = generate_linear_space(start, stop, num)\n",
        "print(linear_space)\n"
      ]
    },
    {
      "cell_type": "code",
      "execution_count": 17,
      "id": "e2dad922-517e-4c39-89a4-700df100b2be",
      "metadata": {
        "colab": {
          "base_uri": "https://localhost:8080/"
        },
        "id": "e2dad922-517e-4c39-89a4-700df100b2be",
        "outputId": "005492bb-3ae8-4528-d6c2-6b38cf39e506"
      },
      "outputs": [
        {
          "output_type": "stream",
          "name": "stdout",
          "text": [
            "[[1. 0. 0.]\n",
            " [0. 1. 0.]\n",
            " [0. 0. 1.]]\n"
          ]
        }
      ],
      "source": [
        "#  15. Create a function `create_identity_matrix` that takes an integer `n` as input and generates a square identity matrix of size `n x n` using `numpy.eye`.\n",
        "\n",
        "\n",
        "# code\n",
        "\n",
        "import numpy as np\n",
        "\n",
        "def create_identity_matrix(n):\n",
        "    return np.eye(n)\n",
        "\n",
        "n = 3\n",
        "identity_matrix = create_identity_matrix(n)\n",
        "print(identity_matrix)\n"
      ]
    },
    {
      "cell_type": "code",
      "execution_count": 18,
      "id": "fd38f931-8eac-4b2c-99de-ecb5950ad638",
      "metadata": {
        "colab": {
          "base_uri": "https://localhost:8080/"
        },
        "id": "fd38f931-8eac-4b2c-99de-ecb5950ad638",
        "outputId": "ee783467-fac4-466c-99c8-96964bf0afaf"
      },
      "outputs": [
        {
          "output_type": "stream",
          "name": "stdout",
          "text": [
            "[1 2 3]\n"
          ]
        }
      ],
      "source": [
        "#  16. Write a function that takes a Python list and converts it into a NumPy array.\n",
        "\n",
        "\n",
        "# code\n",
        "\n",
        "import numpy as np\n",
        "\n",
        "def list_to_numpy_array(lst):\n",
        "    return np.array(lst)\n",
        "\n",
        "lst = [1, 2, 3]\n",
        "numpy_array = list_to_numpy_array(lst)\n",
        "print(numpy_array)\n"
      ]
    },
    {
      "cell_type": "code",
      "execution_count": 19,
      "id": "751d5a5a-de2a-46c0-8ef8-fedd792d86ae",
      "metadata": {
        "colab": {
          "base_uri": "https://localhost:8080/"
        },
        "id": "751d5a5a-de2a-46c0-8ef8-fedd792d86ae",
        "outputId": "853af466-75af-4746-c540-49dae61062b5"
      },
      "outputs": [
        {
          "output_type": "stream",
          "name": "stdout",
          "text": [
            "Original array:\n",
            "[1 2 3 4 5]\n",
            "\n",
            "New array:\n",
            "[1 2 3 4 5]\n",
            "\n",
            "Original array after modifying new array:\n",
            "[10  2  3  4  5]\n"
          ]
        }
      ],
      "source": [
        "#  17. Create a NumPy array and demonstrate the use of `numpy.view` to create a new array object with the same data.\n",
        "\n",
        "# code\n",
        "\n",
        "import numpy as np\n",
        "\n",
        "# Create a NumPy array\n",
        "arr = np.array([1, 2, 3, 4, 5])\n",
        "\n",
        "# Use ndarray.view to create a new array object with the same data\n",
        "new_arr = arr.view()\n",
        "\n",
        "# Print the original and new arrays\n",
        "print(\"Original array:\")\n",
        "print(arr)\n",
        "print(\"\\nNew array:\")\n",
        "print(new_arr)\n",
        "\n",
        "# Modify the new array and verify that the original array is also modified\n",
        "new_arr[0] = 10\n",
        "print(\"\\nOriginal array after modifying new array:\")\n",
        "print(arr)\n"
      ]
    },
    {
      "cell_type": "code",
      "execution_count": 20,
      "id": "38ccd592-e2b8-4709-ae0e-196df1924c9c",
      "metadata": {
        "colab": {
          "base_uri": "https://localhost:8080/"
        },
        "id": "38ccd592-e2b8-4709-ae0e-196df1924c9c",
        "outputId": "a3e8b24c-1989-42ba-c377-1637ce4caa99"
      },
      "outputs": [
        {
          "output_type": "stream",
          "name": "stdout",
          "text": [
            "[[ 1.  2.  3.  7.  8.  0.]\n",
            " [ 4.  5.  6.  9. 10.  0.]]\n"
          ]
        }
      ],
      "source": [
        "# 19.  Create two NumPy arrays with different shapes and concatenate them horizontally using `numpy.concatenate`.\n",
        "\n",
        "\n",
        "\n",
        "# Code\n",
        "\n",
        "import numpy as np\n",
        "\n",
        "array1 = np.array([[1, 2, 3], [4, 5, 6]])\n",
        "array2 = np.array([[7, 8], [9, 10]])\n",
        "\n",
        "array2_extended = np.concatenate((array2, np.zeros((array2.shape[0], 1))), axis=1)\n",
        "\n",
        "result = np.concatenate((array1, array2_extended), axis=1)\n",
        "\n",
        "print(result)\n"
      ]
    },
    {
      "cell_type": "code",
      "execution_count": 21,
      "id": "bbd0d756-f126-454b-9d4e-97638aa19883",
      "metadata": {
        "colab": {
          "base_uri": "https://localhost:8080/"
        },
        "id": "bbd0d756-f126-454b-9d4e-97638aa19883",
        "outputId": "4da621f8-de97-46f5-a8cb-51d1be15281a"
      },
      "outputs": [
        {
          "output_type": "stream",
          "name": "stdout",
          "text": [
            "[[1 2 3]\n",
            " [4 5 6]\n",
            " [7 8 9]]\n"
          ]
        }
      ],
      "source": [
        "# 20. Write a function that vertically stacks multiple NumPy arrays given as a list.\n",
        "\n",
        "# Code\n",
        "import numpy as np\n",
        "\n",
        "def stack_arrays_vertically(arrays_list):\n",
        "\n",
        "    stacked_array = np.vstack(arrays_list)\n",
        "    return stacked_array\n",
        "\n",
        "array1 = np.array([1, 2, 3])\n",
        "array2 = np.array([4, 5, 6])\n",
        "array3 = np.array([7, 8, 9])\n",
        "\n",
        "stacked_array = stack_arrays_vertically([array1, array2, array3])\n",
        "print(stacked_array)\n",
        "\n",
        "\n"
      ]
    },
    {
      "cell_type": "code",
      "execution_count": 22,
      "id": "a622cf80-78e0-4f54-8c96-25529722efdb",
      "metadata": {
        "colab": {
          "base_uri": "https://localhost:8080/"
        },
        "id": "a622cf80-78e0-4f54-8c96-25529722efdb",
        "outputId": "4da512e7-419d-4967-8446-ed045083b6d9"
      },
      "outputs": [
        {
          "output_type": "stream",
          "name": "stdout",
          "text": [
            "[ 0  2  4  6  8 10]\n"
          ]
        }
      ],
      "source": [
        "#  21. Write a Python function using NumPy to create an array of integers within a specified range (inclusive)  with a given step size.\n",
        "\n",
        "# code\n",
        "\n",
        "import numpy as np\n",
        "\n",
        "def create_integer_array(start, end, step=1):\n",
        "\n",
        "    if step == 0:\n",
        "        raise ValueError(\"Step size cannot be zero.\")\n",
        "\n",
        "    integer_array = np.arange(start, end + 1, step)\n",
        "    return integer_array\n",
        "integer_array = create_integer_array(0, 10, 2)\n",
        "print(integer_array)\n"
      ]
    },
    {
      "cell_type": "code",
      "execution_count": 23,
      "id": "4aff350e-b3d0-4b2d-831f-311f4aca434f",
      "metadata": {
        "colab": {
          "base_uri": "https://localhost:8080/"
        },
        "id": "4aff350e-b3d0-4b2d-831f-311f4aca434f",
        "outputId": "f749de3c-587d-4b92-d884-b4966bc15c9d"
      },
      "outputs": [
        {
          "output_type": "stream",
          "name": "stdout",
          "text": [
            "[0.         0.11111111 0.22222222 0.33333333 0.44444444 0.55555556\n",
            " 0.66666667 0.77777778 0.88888889 1.        ]\n"
          ]
        }
      ],
      "source": [
        "# 22. Write a Python function using NumPy to generate an array of 10 equally spaced values between 0 and 1 (inclusive).\n",
        "\n",
        "# code\n",
        "\n",
        "import numpy as np\n",
        "\n",
        "def generate_equally_spaced_values(start, end, num_values):\n",
        "\n",
        "    if num_values <= 0:\n",
        "        raise ValueError(\"Number of values must be greater than zero.\")\n",
        "\n",
        "    equally_spaced_values = np.linspace(start, end, num_values)\n",
        "    return equally_spaced_values\n",
        "\n",
        "equally_spaced_values = generate_equally_spaced_values(0, 1, 10)\n",
        "print(equally_spaced_values)\n"
      ]
    },
    {
      "cell_type": "code",
      "execution_count": 24,
      "id": "39dae6bd-fdbc-4b97-ba41-b70266ddbc92",
      "metadata": {
        "colab": {
          "base_uri": "https://localhost:8080/"
        },
        "id": "39dae6bd-fdbc-4b97-ba41-b70266ddbc92",
        "outputId": "88ca0c41-f047-473e-a06a-42c943c836db"
      },
      "outputs": [
        {
          "output_type": "stream",
          "name": "stdout",
          "text": [
            "[  10.           31.6227766   100.          316.22776602 1000.        ]\n"
          ]
        }
      ],
      "source": [
        "#  23. Write a Python function using NumPy to create an array of 5 logarithmically spaced values between 1 and 1000 (inclusive).\n",
        "\n",
        "\n",
        "# code\n",
        "import numpy as np\n",
        "\n",
        "def generate_log_array():\n",
        "    return np.logspace(1, 3, 5, endpoint=True)\n",
        "print(generate_log_array())\n"
      ]
    },
    {
      "cell_type": "code",
      "execution_count": 25,
      "id": "52a8feb4-e3c2-4078-b4c7-a2d732eac35e",
      "metadata": {
        "colab": {
          "base_uri": "https://localhost:8080/"
        },
        "id": "52a8feb4-e3c2-4078-b4c7-a2d732eac35e",
        "outputId": "e3198cc6-1910-41c8-829a-40c562a45ab1"
      },
      "outputs": [
        {
          "output_type": "stream",
          "name": "stdout",
          "text": [
            "NumPy Array:\n",
            "[[10 34 74]\n",
            " [16 45  4]\n",
            " [ 2 10 58]\n",
            " [67 46  2]\n",
            " [ 9 66 36]]\n",
            "\n",
            "Pandas DataFrame:\n",
            "   Column_1  Column_2  Column_3\n",
            "0        10        34        74\n",
            "1        16        45         4\n",
            "2         2        10        58\n",
            "3        67        46         2\n",
            "4         9        66        36\n"
          ]
        }
      ],
      "source": [
        "# 24. Create a Pandas DataFrame using a NumPy array that contains 5 rows and 3 columns, where the values are random integers between 1 and 100.\n",
        "\n",
        "# code\n",
        "import numpy as np\n",
        "import pandas as pd\n",
        "\n",
        "np_array = np.random.randint(1, 101, size=(5, 3))\n",
        "\n",
        "print(\"NumPy Array:\")\n",
        "print(np_array)\n",
        "\n",
        "df = pd.DataFrame(np_array, columns=['Column_1', 'Column_2', 'Column_3'])\n",
        "\n",
        "print(\"\\nPandas DataFrame:\")\n",
        "print(df)\n"
      ]
    },
    {
      "cell_type": "code",
      "execution_count": 26,
      "id": "cccee3b7-d1dc-4f9a-a05c-d4900b71d794",
      "metadata": {
        "colab": {
          "base_uri": "https://localhost:8080/"
        },
        "id": "cccee3b7-d1dc-4f9a-a05c-d4900b71d794",
        "outputId": "db4ccb0c-191e-4d6f-bc9e-5b5fe89a3a40"
      },
      "outputs": [
        {
          "output_type": "stream",
          "name": "stdout",
          "text": [
            "Original DataFrame:\n",
            "   A   B\n",
            "0  1  -6\n",
            "1 -2   7\n",
            "2  3  -8\n",
            "3 -4   9\n",
            "4  5 -10\n",
            "\n",
            "DataFrame after replacing the negative values in column 'A' with zeros:\n",
            "   A   B\n",
            "0  1  -6\n",
            "1  0   7\n",
            "2  3  -8\n",
            "3  0   9\n",
            "4  5 -10\n",
            "\n",
            "DataFrame after replacing the negative values in column 'B' with zeros:\n",
            "   A  B\n",
            "0  1  0\n",
            "1  0  7\n",
            "2  3  0\n",
            "3  0  9\n",
            "4  5  0\n"
          ]
        }
      ],
      "source": [
        "# 25. Write a function that takes a Pandas DataFrame and replaces all negative values in a specific columnwith zeros. Use NumPy operations within the Pandas DataFrame.\n",
        "\n",
        "# code\n",
        "\n",
        "import numpy as np\n",
        "import pandas as pd\n",
        "\n",
        "df = pd.DataFrame({'A': [1, -2, 3, -4, 5], 'B': [-6, 7, -8, 9, -10]})\n",
        "\n",
        "print(\"Original DataFrame:\")\n",
        "print(df)\n",
        "\n",
        "def replace_negatives_with_zeros(df, column_name):\n",
        "\n",
        "    df.loc[:, column_name] = np.where(df[column_name] < 0, 0, df[column_name])\n",
        "\n",
        "replace_negatives_with_zeros(df, 'A')\n",
        "\n",
        "print(\"\\nDataFrame after replacing the negative values in column 'A' with zeros:\")\n",
        "print(df)\n",
        "\n",
        "replace_negatives_with_zeros(df, 'B')\n",
        "\n",
        "print(\"\\nDataFrame after replacing the negative values in column 'B' with zeros:\")\n",
        "print(df)\n"
      ]
    },
    {
      "cell_type": "code",
      "execution_count": 27,
      "id": "4920d535-b6d9-4b57-92a8-38b881ec9aa7",
      "metadata": {
        "colab": {
          "base_uri": "https://localhost:8080/"
        },
        "id": "4920d535-b6d9-4b57-92a8-38b881ec9aa7",
        "outputId": "c513e588-0440-4b19-b06b-ca7f1eb00354"
      },
      "outputs": [
        {
          "output_type": "stream",
          "name": "stdout",
          "text": [
            "The 3rd element from the array is: 30\n"
          ]
        }
      ],
      "source": [
        "# 26. Access the 3rd element from the given NumPy array.\n",
        "# arr = np.array([10, 20, 30, 40, 50])\n",
        "\n",
        "\n",
        "# code\n",
        "import numpy as np\n",
        "\n",
        "arr = np.array([10, 20, 30, 40, 50])\n",
        "\n",
        "third_element = arr[2]\n",
        "\n",
        "print(\"The 3rd element from the array is:\", third_element)\n"
      ]
    },
    {
      "cell_type": "code",
      "execution_count": 28,
      "id": "27520c8f-8011-4d18-897d-65a033aed0bc",
      "metadata": {
        "colab": {
          "base_uri": "https://localhost:8080/"
        },
        "id": "27520c8f-8011-4d18-897d-65a033aed0bc",
        "outputId": "7be17c0a-7646-41fa-9e90-3dcf0648c070"
      },
      "outputs": [
        {
          "output_type": "stream",
          "name": "stdout",
          "text": [
            "The element at index (1, 2) from the array is: 6\n"
          ]
        }
      ],
      "source": [
        "# 27. Retrieve the element at index (1, 2) from the 2D NumPy array.\n",
        "\n",
        "# arr_2d = np.array([[1, 2, 3],\n",
        "                   # [4, 5, 6],\n",
        "                   # [7, 8, 9]])\n",
        "\n",
        "# code\n",
        "import numpy as np\n",
        "\n",
        "arr_2d = np.array([[1, 2, 3],\n",
        "                   [4, 5, 6],\n",
        "                   [7, 8, 9]])\n",
        "\n",
        "element = arr_2d[1, 2]\n",
        "\n",
        "print(\"The element at index (1, 2) from the array is:\", element)\n",
        "\n"
      ]
    },
    {
      "cell_type": "code",
      "execution_count": 29,
      "id": "4714a998-8f48-4a4d-96ae-d01240399db7",
      "metadata": {
        "colab": {
          "base_uri": "https://localhost:8080/"
        },
        "id": "4714a998-8f48-4a4d-96ae-d01240399db7",
        "outputId": "fe3feb02-e343-41db-c614-c97e102dd79b"
      },
      "outputs": [
        {
          "output_type": "stream",
          "name": "stdout",
          "text": [
            "The elements greater than 5 from the array are: [ 8 10  7]\n"
          ]
        }
      ],
      "source": [
        "# 28. Using boolean indexing, extract elements greater than 5 from the given NumPy array.\n",
        "# arr = np.array([3, 8, 2, 10, 5, 7])\n",
        "\n",
        "# code\n",
        "import numpy as np\n",
        "\n",
        "arr = np.array([3, 8, 2, 10, 5, 7])\n",
        "greater_than_5 = arr[arr > 5]\n",
        "\n",
        "print(\"The elements greater than 5 from the array are:\", greater_than_5)\n"
      ]
    },
    {
      "cell_type": "code",
      "execution_count": 30,
      "id": "603dafb5-3066-4602-9008-7b405fc0944c",
      "metadata": {
        "colab": {
          "base_uri": "https://localhost:8080/"
        },
        "id": "603dafb5-3066-4602-9008-7b405fc0944c",
        "outputId": "7b0c527e-5ed3-4191-f916-56089877eb5b"
      },
      "outputs": [
        {
          "output_type": "stream",
          "name": "stdout",
          "text": [
            "The elements from index 2 to 5 (inclusive) from the array are: [3 4 5 6]\n"
          ]
        }
      ],
      "source": [
        "# 29. Perform basic slicing to extract elements from index 2 to 5 (inclusive) from the given NumPy array.\n",
        "# arr = np.array([1, 2, 3, 4, 5, 6, 7, 8, 9])\n",
        "\n",
        "# code\n",
        "import numpy as np\n",
        "\n",
        "arr = np.array([1, 2, 3, 4, 5, 6, 7, 8, 9])\n",
        "\n",
        "sliced_arr = arr[2:6]\n",
        "print(\"The elements from index 2 to 5 (inclusive) from the array are:\", sliced_arr)\n"
      ]
    },
    {
      "cell_type": "code",
      "execution_count": 88,
      "id": "3974a9df-9e4e-4a62-9f43-c5ec8a02daf5",
      "metadata": {
        "colab": {
          "base_uri": "https://localhost:8080/"
        },
        "id": "3974a9df-9e4e-4a62-9f43-c5ec8a02daf5",
        "outputId": "817f4b17-7f0b-4ca9-b576-249f7827c5cd"
      },
      "outputs": [
        {
          "output_type": "stream",
          "name": "stdout",
          "text": [
            "[[2 3]\n",
            " [5 6]]\n"
          ]
        }
      ],
      "source": [
        "#30. Slice the 2D NumPy array to extract the sub-array `[[2, 3], [5, 6]]` from the given array.\n",
        "# arr_2d = np.array([[1, 2, 3],\n",
        "                   # [4, 5, 6],\n",
        "                   # [7, 8, 9]])\n",
        "\n",
        "# code\n",
        "\n",
        "import numpy as np\n",
        "\n",
        "arr_2d = np.array([[1, 2, 3],\n",
        "                   [4, 5, 6],\n",
        "                   [7, 8, 9]])\n",
        "\n",
        "sub_array = arr_2d[0:2, 1:3]\n",
        "\n",
        "print(sub_array)\n",
        "\n"
      ]
    },
    {
      "cell_type": "code",
      "execution_count": 32,
      "id": "22b429a0-ec5d-4b36-9d69-59fbf790f9bc",
      "metadata": {
        "colab": {
          "base_uri": "https://localhost:8080/"
        },
        "id": "22b429a0-ec5d-4b36-9d69-59fbf790f9bc",
        "outputId": "4f3e7535-672b-4d54-822f-0d845d573af9"
      },
      "outputs": [
        {
          "output_type": "stream",
          "name": "stdout",
          "text": [
            "The extracted elements in the specified order are: [1 6 8]\n"
          ]
        }
      ],
      "source": [
        "# 31.Write a NumPy function to extract elements in specific order from a given 2D array based on indices provided in another array.\n",
        "\n",
        "# code\n",
        "import numpy as np\n",
        "\n",
        "def extract_elements(arr_2d, indices):\n",
        "    extracted_elements = arr_2d[tuple(indices.T.tolist())]\n",
        "    return extracted_elements\n",
        "\n",
        "arr_2d = np.array([[1, 2, 3],\n",
        "                    [4, 5, 6],\n",
        "                    [7, 8, 9]])\n",
        "\n",
        "indices = np.array([[0, 0],\n",
        "                      [1, 2],\n",
        "                      [2, 1]])\n",
        "\n",
        "extracted_elements = extract_elements(arr_2d, indices)\n",
        "\n",
        "print(\"The extracted elements in the specified order are:\", extracted_elements)\n",
        "\n"
      ]
    },
    {
      "cell_type": "code",
      "execution_count": 33,
      "id": "53f487a5-b064-4157-8a46-292f2e9224b9",
      "metadata": {
        "colab": {
          "base_uri": "https://localhost:8080/"
        },
        "id": "53f487a5-b064-4157-8a46-292f2e9224b9",
        "outputId": "621c29df-8bda-4a18-f662-e3eb15503950"
      },
      "outputs": [
        {
          "output_type": "stream",
          "name": "stdout",
          "text": [
            "The elements greater than 5 are: [6 7 8 9]\n"
          ]
        }
      ],
      "source": [
        "# 32. Create a NumPy function that filters elements greater than a threshold from a given 1D array using boolean indexing.\n",
        "\n",
        "# code\n",
        "import numpy as np\n",
        "\n",
        "def filter_greater_than(arr, threshold):\n",
        "\n",
        "    filtered_arr = arr[arr > threshold]\n",
        "\n",
        "    return filtered_arr\n",
        "arr = np.array([1, 2, 3, 4, 5, 6, 7, 8, 9])\n",
        "\n",
        "filtered_arr = filter_greater_than(arr, 5)\n",
        "\n",
        "print(\"The elements greater than 5 are:\", filtered_arr)\n",
        "\n"
      ]
    },
    {
      "cell_type": "code",
      "execution_count": 34,
      "id": "cf64bb70-b50b-4939-873f-eeca6e2edff3",
      "metadata": {
        "colab": {
          "base_uri": "https://localhost:8080/"
        },
        "id": "cf64bb70-b50b-4939-873f-eeca6e2edff3",
        "outputId": "a5357c47-6b18-4a6c-a59d-59fdc04bd85b"
      },
      "outputs": [
        {
          "output_type": "stream",
          "name": "stdout",
          "text": [
            "Original 3D array:\n",
            "[[[20 65 70 30]\n",
            "  [87 28 46  4]\n",
            "  [21  6 63 21]\n",
            "  [29 12 32  1]]\n",
            "\n",
            " [[11 23 26 84]\n",
            "  [69 27 63 39]\n",
            "  [68 67 29  5]\n",
            "  [47  8 70 13]]\n",
            "\n",
            " [[69 89 63 88]\n",
            "  [70 51 98 27]\n",
            "  [70  1  3 10]\n",
            "  [83 47  8 15]]\n",
            "\n",
            " [[61 80 35  4]\n",
            "  [77 84 96 41]\n",
            "  [94 48  4 81]\n",
            "  [53 93 23 77]]]\n",
            "\n",
            "Extracted elements:\n",
            "[ 4 68 47]\n"
          ]
        }
      ],
      "source": [
        "# 33. Develop a NumPy function that extracts specific elements from a 3D array using indices provided in three separate arrays for each dimension.\n",
        "\n",
        "# code\n",
        "import numpy as np\n",
        "\n",
        "def extract_elements_3d(array, x_indices, y_indices, z_indices):\n",
        "    return array[x_indices, y_indices, z_indices]\n",
        "\n",
        "array_3d = np.random.randint(1, 100, size=(4, 4, 4))\n",
        "print(\"Original 3D array:\")\n",
        "print(array_3d)\n",
        "\n",
        "x_indices = np.array([0, 1, 2])\n",
        "y_indices = np.array([1, 2, 3])\n",
        "z_indices = np.array([3, 0, 1])\n",
        "\n",
        "extracted_elements = extract_elements_3d(array_3d, x_indices, y_indices, z_indices)\n",
        "print(\"\\nExtracted elements:\")\n",
        "print(extracted_elements)\n",
        "\n",
        "\n",
        "\n"
      ]
    },
    {
      "cell_type": "code",
      "execution_count": 35,
      "id": "a6d57053-6202-45fe-ba21-e9b6bf43e9fe",
      "metadata": {
        "colab": {
          "base_uri": "https://localhost:8080/"
        },
        "id": "a6d57053-6202-45fe-ba21-e9b6bf43e9fe",
        "outputId": "7a7baf3b-c2bf-435a-9807-286013f74b36"
      },
      "outputs": [
        {
          "output_type": "stream",
          "name": "stdout",
          "text": [
            "The elements greater than 3 and even are: [4 6 8]\n"
          ]
        }
      ],
      "source": [
        "# 34. Write a NumPy function that returns elements from an array where both two conditions are satisfied using boolean indexing.\n",
        "\n",
        "# code\n",
        "\n",
        "\n",
        "import numpy as np\n",
        "\n",
        "def filter_two_conditions(arr, condition1, condition2):\n",
        "    filtered_arr = arr[(condition1) & (condition2)]\n",
        "    return filtered_arr\n",
        "\n",
        "arr = np.array([1, 2, 3, 4, 5, 6, 7, 8, 9])\n",
        "condition1 = (arr > 3)\n",
        "condition2 = (arr % 2 == 0)\n",
        "filtered_arr = filter_two_conditions(arr, condition1, condition2)\n",
        "print(\"The elements greater than 3 and even are:\", filtered_arr)\n"
      ]
    },
    {
      "cell_type": "code",
      "execution_count": 36,
      "id": "746dbc29-af1c-4eab-9efb-33af18c3dfea",
      "metadata": {
        "colab": {
          "base_uri": "https://localhost:8080/"
        },
        "id": "746dbc29-af1c-4eab-9efb-33af18c3dfea",
        "outputId": "acd0fb04-3f21-485c-f4f4-c6629c72cffb"
      },
      "outputs": [
        {
          "output_type": "stream",
          "name": "stdout",
          "text": [
            "The extracted elements are: [3 5 7]\n"
          ]
        }
      ],
      "source": [
        "# 35. Create a NumPy function that extracts elements from a 2D array using row and column indices provided in separate arrays.\n",
        "\n",
        "# code\n",
        "\n",
        "\n",
        "import numpy as np\n",
        "\n",
        "def extract_elements_2d(arr, row_indices, col_indices):\n",
        "    extracted_elements = arr[row_indices, col_indices]\n",
        "    return extracted_elements\n",
        "\n",
        "arr = np.array([[1, 2, 3],\n",
        "                [4, 5, 6],\n",
        "                [7, 8, 9]])\n",
        "row_indices = np.array([0, 1, 2])\n",
        "col_indices = np.array([2, 1, 0])\n",
        "extracted_elements = extract_elements_2d(arr, row_indices, col_indices)\n",
        "print(\"The extracted elements are:\", extracted_elements)"
      ]
    },
    {
      "cell_type": "code",
      "execution_count": 37,
      "id": "594ad857-fa8b-4b4c-aab1-36d30aab6980",
      "metadata": {
        "colab": {
          "base_uri": "https://localhost:8080/"
        },
        "id": "594ad857-fa8b-4b4c-aab1-36d30aab6980",
        "outputId": "745ece8b-c1a9-4485-b658-d62b36fb0308"
      },
      "outputs": [
        {
          "output_type": "stream",
          "name": "stdout",
          "text": [
            "The array after adding 5 to each element is:\n",
            "[[ 6  7  8]\n",
            " [ 9 10 11]\n",
            " [12 13 14]]\n"
          ]
        }
      ],
      "source": [
        "# 36. Given an array arr of shape (3, 3), add a scalar value of 5 to each element using NumPy broadcasting.\n",
        "\n",
        "# code\n",
        "\n",
        "\n",
        "import numpy as np\n",
        "\n",
        "arr = np.array([[1, 2, 3],\n",
        "                [4, 5, 6],\n",
        "                [7, 8, 9]])\n",
        "\n",
        "result = arr + 5\n",
        "\n",
        "print(\"The array after adding 5 to each element is:\")\n",
        "print(result)"
      ]
    },
    {
      "cell_type": "code",
      "execution_count": 38,
      "id": "963cf8a2-07ee-424e-83fc-11e9df52a188",
      "metadata": {
        "colab": {
          "base_uri": "https://localhost:8080/"
        },
        "id": "963cf8a2-07ee-424e-83fc-11e9df52a188",
        "outputId": "1d08c005-52af-4d75-a5c2-ae454982c8c2"
      },
      "outputs": [
        {
          "output_type": "stream",
          "name": "stdout",
          "text": [
            "Array arr1:\n",
            "[[2 3 4]]\n",
            "\n",
            "Array arr2:\n",
            "[[ 1  2  3  4]\n",
            " [ 5  6  7  8]\n",
            " [ 9 10 11 12]]\n",
            "\n",
            "Result of broadcasting multiplication:\n",
            "[[ 2  4  6  8]\n",
            " [15 18 21 24]\n",
            " [36 40 44 48]]\n"
          ]
        }
      ],
      "source": [
        "# 37. Consider two arrays arr1 of shape (1, 3) and arr2 of shape (3, 4). Multiply each row of arr2 by the corresponding element in arr1 using NumPy broadcasting.\n",
        "\n",
        "# code\n",
        "\n",
        "\n",
        "import numpy as np\n",
        "\n",
        "arr1 = np.array([[2, 3, 4]])\n",
        "arr2 = np.array([\n",
        "    [1, 2, 3, 4],\n",
        "    [5, 6, 7, 8],\n",
        "    [9, 10, 11, 12]\n",
        "])\n",
        "\n",
        "print(\"Array arr1:\")\n",
        "print(arr1)\n",
        "print(\"\\nArray arr2:\")\n",
        "print(arr2)\n",
        "\n",
        "result = arr2 * arr1.T\n",
        "\n",
        "print(\"\\nResult of broadcasting multiplication:\")\n",
        "print(result)\n"
      ]
    },
    {
      "cell_type": "code",
      "execution_count": 39,
      "id": "a6c5b1a7-c915-43dc-9270-2afb713cb4de",
      "metadata": {
        "colab": {
          "base_uri": "https://localhost:8080/"
        },
        "id": "a6c5b1a7-c915-43dc-9270-2afb713cb4de",
        "outputId": "75ecc1cf-5f99-44dc-e8e4-ceccfaa2f07f"
      },
      "outputs": [
        {
          "output_type": "stream",
          "name": "stdout",
          "text": [
            "Array arr1:\n",
            "[[2 3 4]]\n",
            "\n",
            "Array arr2:\n",
            "[[ 1  2  3  4]\n",
            " [ 5  6  7  8]\n",
            " [ 9 10 11 12]]\n",
            "\n",
            "Result of broadcasting multiplication:\n",
            "[[ 2  4  6  8]\n",
            " [15 18 21 24]\n",
            " [36 40 44 48]]\n"
          ]
        }
      ],
      "source": [
        "# 38. Given a 1D array arr1 of shape (1, 4) and a 2D array arr2 of shape (4, 3), add arr1 to each row of arr2 using NumPy broadcasting.\n",
        "\n",
        "# code\n",
        "\n",
        "\n",
        "import numpy as np\n",
        "\n",
        "arr1 = np.array([[2, 3, 4]])\n",
        "arr2 = np.array([\n",
        "    [1, 2, 3, 4],\n",
        "    [5, 6, 7, 8],\n",
        "    [9, 10, 11, 12]\n",
        "])\n",
        "\n",
        "print(\"Array arr1:\")\n",
        "print(arr1)\n",
        "print(\"\\nArray arr2:\")\n",
        "print(arr2)\n",
        "\n",
        "result = arr2 * arr1.T\n",
        "\n",
        "print(\"\\nResult of broadcasting multiplication:\")\n",
        "print(result)\n"
      ]
    },
    {
      "cell_type": "code",
      "execution_count": 40,
      "id": "7d493f0e-44d9-418e-8d55-74726ba42d43",
      "metadata": {
        "colab": {
          "base_uri": "https://localhost:8080/"
        },
        "id": "7d493f0e-44d9-418e-8d55-74726ba42d43",
        "outputId": "bfdf7cd8-616b-4bf1-cf93-ce3970404352"
      },
      "outputs": [
        {
          "output_type": "stream",
          "name": "stdout",
          "text": [
            "The resulting array after adding arr1 and arr2 is:\n",
            "[[5 6 7]\n",
            " [6 7 8]\n",
            " [7 8 9]]\n"
          ]
        }
      ],
      "source": [
        "# 39. Consider two arrays arr1 of shape (3, 1) and arr2 of shape (1, 3). Add these arrays using NumPy broadcasting.\n",
        "\n",
        "# code\n",
        "\n",
        "\n",
        "import numpy as np\n",
        "\n",
        "arr1 = np.array([[1],\n",
        "                [2],\n",
        "                [3]])\n",
        "arr2 = np.array([[4, 5, 6]])\n",
        "\n",
        "result = arr1 + arr2\n",
        "\n",
        "print(\"The resulting array after adding arr1 and arr2 is:\")\n",
        "print(result)\n"
      ]
    },
    {
      "cell_type": "code",
      "execution_count": 41,
      "id": "bed84aad-95f8-4193-8932-14e5a680d324",
      "metadata": {
        "colab": {
          "base_uri": "https://localhost:8080/"
        },
        "id": "bed84aad-95f8-4193-8932-14e5a680d324",
        "outputId": "2b46a8e8-63ba-4730-c973-65d5100612f8"
      },
      "outputs": [
        {
          "output_type": "stream",
          "name": "stdout",
          "text": [
            "Array arr1:\n",
            "[[1 2 3]\n",
            " [4 5 6]]\n",
            "\n",
            "Array arr2:\n",
            "[[ 7  8]\n",
            " [ 9 10]]\n",
            "\n",
            "Result of broadcasting multiplication:\n",
            "[[[ 7 14 21]\n",
            "  [ 8 16 24]]\n",
            "\n",
            " [[36 45 54]\n",
            "  [40 50 60]]]\n"
          ]
        }
      ],
      "source": [
        "# 40. Given arrays arr1 of shape (2, 3) and arr2 of shape (2, 2), perform multiplication using NumPy broadcasting. Handle the shape incompatibility.\n",
        "\n",
        "# code\n",
        "\n",
        "\n",
        "import numpy as np\n",
        "\n",
        "arr1 = np.array([\n",
        "    [1, 2, 3],\n",
        "    [4, 5, 6]\n",
        "])\n",
        "\n",
        "arr2 = np.array([\n",
        "    [7, 8],\n",
        "    [9, 10]\n",
        "])\n",
        "\n",
        "print(\"Array arr1:\")\n",
        "print(arr1)\n",
        "print(\"\\nArray arr2:\")\n",
        "print(arr2)\n",
        "\n",
        "arr2_expanded = np.expand_dims(arr2, axis=2)\n",
        "arr1_expanded = np.expand_dims(arr1, axis=1)\n",
        "\n",
        "result = arr1_expanded * arr2_expanded\n",
        "\n",
        "print(\"\\nResult of broadcasting multiplication:\")\n",
        "print(result)\n"
      ]
    },
    {
      "cell_type": "code",
      "execution_count": 42,
      "id": "4e56add8-e46b-48bd-a7db-24af4f3b8628",
      "metadata": {
        "colab": {
          "base_uri": "https://localhost:8080/"
        },
        "id": "4e56add8-e46b-48bd-a7db-24af4f3b8628",
        "outputId": "fbbb0c31-2887-4c04-c370-199a11b5cf64"
      },
      "outputs": [
        {
          "output_type": "stream",
          "name": "stdout",
          "text": [
            "The column wise mean of the array is:\n",
            "[2.5 3.5 4.5]\n"
          ]
        }
      ],
      "source": [
        "# 41. Calculate column wise mean for the given array:\n",
        "# arr = np.array([[1, 2, 3], [4, 5, 6]])\n",
        "# code\n",
        "\n",
        "\n",
        "import numpy as np\n",
        "\n",
        "arr = np.array([[1, 2, 3],\n",
        "                [4, 5, 6]])\n",
        "\n",
        "# Calculate column wise mean\n",
        "col_mean = np.mean(arr, axis=0)\n",
        "\n",
        "print(\"The column wise mean of the array is:\")\n",
        "print(col_mean)"
      ]
    },
    {
      "cell_type": "code",
      "execution_count": 43,
      "id": "bb5f40de-eed6-40b8-b8ec-50f95b9c5d36",
      "metadata": {
        "colab": {
          "base_uri": "https://localhost:8080/"
        },
        "id": "bb5f40de-eed6-40b8-b8ec-50f95b9c5d36",
        "outputId": "b9c9b07c-723c-436a-e259-a20c6133a8d4"
      },
      "outputs": [
        {
          "output_type": "stream",
          "name": "stdout",
          "text": [
            "The maximum value in each row of the array is:\n",
            "[3 6]\n"
          ]
        }
      ],
      "source": [
        "# 42. Find maximum value in each row of the given array:\n",
        "# arr = np.array([[1, 2, 3], [4, 5, 6]])\n",
        "# code\n",
        "\n",
        "import numpy as np\n",
        "\n",
        "arr = np.array([[1, 2, 3],\n",
        "                [4, 5, 6]])\n",
        "\n",
        "# Find maximum value in each row\n",
        "row_max = np.max(arr, axis=1)\n",
        "\n",
        "print(\"The maximum value in each row of the array is:\")\n",
        "print(row_max)"
      ]
    },
    {
      "cell_type": "code",
      "execution_count": 44,
      "id": "052623dc-c506-4b99-8c2f-8087258cb784",
      "metadata": {
        "colab": {
          "base_uri": "https://localhost:8080/"
        },
        "id": "052623dc-c506-4b99-8c2f-8087258cb784",
        "outputId": "3c8ae6e1-5888-4e81-d48f-4131ebdcd4e7"
      },
      "outputs": [
        {
          "output_type": "stream",
          "name": "stdout",
          "text": [
            "The indices of the maximum value in each column of the array are:\n",
            "[1 1 1]\n"
          ]
        }
      ],
      "source": [
        "# 43. For the given array, find indices of maximum value in each column.\n",
        "# arr = np.array([[1, 2, 3], [4, 5, 6]])\n",
        "# code\n",
        "\n",
        "\n",
        "import numpy as np\n",
        "\n",
        "arr = np.array([[1, 2, 3],\n",
        "                [4, 5, 6]])\n",
        "\n",
        "# Find indices of maximum value in each column\n",
        "col_max_indices = np.argmax(arr, axis=0)\n",
        "\n",
        "print(\"The indices of the maximum value in each column of the array are:\")\n",
        "print(col_max_indices)"
      ]
    },
    {
      "cell_type": "code",
      "execution_count": 45,
      "id": "e4d9c4f1-091a-4e91-af99-80fb1efa635d",
      "metadata": {
        "colab": {
          "base_uri": "https://localhost:8080/"
        },
        "id": "e4d9c4f1-091a-4e91-af99-80fb1efa635d",
        "outputId": "00daf051-1640-4616-ed1d-d11ecb418b74"
      },
      "outputs": [
        {
          "output_type": "stream",
          "name": "stdout",
          "text": [
            "Original array:\n",
            "[[1 2 3]\n",
            " [4 5 6]]\n",
            "\n",
            "Moving sum along rows with window size 2:\n",
            "[[ 3.  5.]\n",
            " [ 9. 11.]]\n"
          ]
        }
      ],
      "source": [
        "# 44. For the given array, apply custom function to calculate moving sum along rows.\n",
        "# arr = np.array([[1, 2, 3], [4, 5, 6]])\n",
        "# code\n",
        "\n",
        "import numpy as np\n",
        "\n",
        "def moving_sum(arr, window_size=2):\n",
        "    result = np.zeros((arr.shape[0], arr.shape[1] - window_size + 1))\n",
        "    for i in range(arr.shape[1] - window_size + 1):\n",
        "        result[:, i] = np.sum(arr[:, i:i+window_size], axis=1)\n",
        "    return result\n",
        "\n",
        "arr = np.array([[1, 2, 3], [4, 5, 6]])\n",
        "print(\"Original array:\")\n",
        "print(arr)\n",
        "\n",
        "result = moving_sum(arr, window_size=2)\n",
        "print(\"\\nMoving sum along rows with window size 2:\")\n",
        "print(result)\n"
      ]
    },
    {
      "cell_type": "code",
      "execution_count": 46,
      "id": "1883e6c5-5c1b-46a5-99aa-6936a40e52ae",
      "metadata": {
        "colab": {
          "base_uri": "https://localhost:8080/"
        },
        "id": "1883e6c5-5c1b-46a5-99aa-6936a40e52ae",
        "outputId": "9e0078f9-7b84-4dce-abb0-05f978692781"
      },
      "outputs": [
        {
          "output_type": "stream",
          "name": "stdout",
          "text": [
            "The result of checking if all elements in each column are even is:\n",
            "[False False False]\n"
          ]
        }
      ],
      "source": [
        "# 45. In the given array, check if all elements in each column are even.\n",
        "# arr = np.array([[2, 4, 6], [3, 5, 7]])\n",
        "# code\n",
        "\n",
        "\n",
        "import numpy as np\n",
        "\n",
        "arr = np.array([[2, 4, 6],\n",
        "                [3, 5, 7]])\n",
        "\n",
        "# Check if all elements in each column are even\n",
        "is_even = np.all(arr % 2 == 0, axis=0)\n",
        "\n",
        "print(\"The result of checking if all elements in each column are even is:\")\n",
        "print(is_even)"
      ]
    },
    {
      "cell_type": "code",
      "execution_count": 47,
      "id": "6886b16d-3b41-4b5f-8c6d-e2171a6ed8d7",
      "metadata": {
        "colab": {
          "base_uri": "https://localhost:8080/"
        },
        "id": "6886b16d-3b41-4b5f-8c6d-e2171a6ed8d7",
        "outputId": "b36903e0-c83e-4ab5-ae7a-456022b1a652"
      },
      "outputs": [
        {
          "output_type": "stream",
          "name": "stdout",
          "text": [
            "The reshaped matrix is:\n",
            "[[1 2 3]\n",
            " [4 5 6]]\n"
          ]
        }
      ],
      "source": [
        "# 46. Given a NumPy array arr, reshape it into a matrix of dimensions m rows and n columns. Return the reshaped matrix.\n",
        "# original_array = np.array([1, 2, 3, 4, 5, 6])\n",
        "\n",
        "# code\n",
        "\n",
        "\n",
        "import numpy as np\n",
        "\n",
        "def reshape_matrix(arr, m, n):\n",
        "\n",
        "    reshaped_matrix = np.reshape(arr, (m, n))\n",
        "\n",
        "    return reshaped_matrix\n",
        "\n",
        "original_array = np.array([1, 2, 3, 4, 5, 6])\n",
        "\n",
        "reshaped_matrix = reshape_matrix(original_array, 2, 3)\n",
        "\n",
        "print(\"The reshaped matrix is:\")\n",
        "print(reshaped_matrix)"
      ]
    },
    {
      "cell_type": "code",
      "execution_count": 48,
      "id": "03568231-640f-4c75-b13c-58ec5c472ebc",
      "metadata": {
        "colab": {
          "base_uri": "https://localhost:8080/"
        },
        "id": "03568231-640f-4c75-b13c-58ec5c472ebc",
        "outputId": "7a016276-717f-4505-bf88-a95a2123b60d"
      },
      "outputs": [
        {
          "output_type": "stream",
          "name": "stdout",
          "text": [
            "The flattened array is:\n",
            "[1 2 3 4 5 6]\n"
          ]
        }
      ],
      "source": [
        "# 47. Create a function that takes a matrix as input and returns the flattened array.\n",
        "# input_matrix = np.array([[1, 2, 3], [4, 5, 6]])\n",
        "# code\n",
        "\n",
        "\n",
        "import numpy as np\n",
        "\n",
        "def flatten_matrix(matrix):\n",
        "\n",
        "    flattened_array = np.ravel(matrix)\n",
        "\n",
        "    return flattened_array\n",
        "\n",
        "input_matrix = np.array([[1, 2, 3],\n",
        "                          [4, 5, 6]])\n",
        "\n",
        "flattened_array = flatten_matrix(input_matrix)\n",
        "\n",
        "print(\"The flattened array is:\")\n",
        "print(flattened_array)"
      ]
    },
    {
      "cell_type": "code",
      "execution_count": 49,
      "id": "2a1a092f-d0a5-487e-a65d-0fe57f89f4e7",
      "metadata": {
        "colab": {
          "base_uri": "https://localhost:8080/"
        },
        "id": "2a1a092f-d0a5-487e-a65d-0fe57f89f4e7",
        "outputId": "098b0459-c74b-4d5a-ffa8-c82d4036d47b"
      },
      "outputs": [
        {
          "output_type": "stream",
          "name": "stdout",
          "text": [
            "The output array after concatenation along the default axis (axis=0) is:\n",
            "[[1 2]\n",
            " [3 4]\n",
            " [5 6]\n",
            " [7 8]]\n",
            "The output array after concatenation along the other axis (axis=1) is:\n",
            "[[1 2 5 6]\n",
            " [3 4 7 8]]\n"
          ]
        }
      ],
      "source": [
        "# 48. Write a function that concatenates two given arrays along a specified axis.\n",
        "# array1 = np.array([[1, 2], [3, 4]])\n",
        "# array2 = np.array([[5, 6], [7, 8]])\n",
        "# code\n",
        "\n",
        "\n",
        "import numpy as np\n",
        "\n",
        "def concatenate_arrays(array1, array2, axis=0):\n",
        "\n",
        "    output_array = np.concatenate((array1, array2), axis=axis)\n",
        "\n",
        "    return output_array\n",
        "\n",
        "array1 = np.array([[1, 2],\n",
        "                      [3, 4]])\n",
        "\n",
        "array2 = np.array([[5, 6],\n",
        "                      [7, 8]])\n",
        "output_array = concatenate_arrays(array1, array2)\n",
        "\n",
        "print(\"The output array after concatenation along the default axis (axis=0) is:\")\n",
        "print(output_array)\n",
        "\n",
        "output_array = concatenate_arrays(array1, array2, axis=1)\n",
        "\n",
        "print(\"The output array after concatenation along the other axis (axis=1) is:\")\n",
        "print(output_array)"
      ]
    },
    {
      "cell_type": "code",
      "execution_count": 50,
      "id": "6c7beaf3-8d01-4a25-826f-4f21772223f8",
      "metadata": {
        "colab": {
          "base_uri": "https://localhost:8080/"
        },
        "id": "6c7beaf3-8d01-4a25-826f-4f21772223f8",
        "outputId": "a04db64a-2d90-4ec2-b11f-6599d11e02e9"
      },
      "outputs": [
        {
          "output_type": "stream",
          "name": "stdout",
          "text": [
            "Original array:\n",
            "[[1 2 3]\n",
            " [4 5 6]\n",
            " [7 8 9]]\n",
            "\n",
            "Split array along axis 0:\n",
            "Sub-array 0:\n",
            "[[1 2 3]]\n",
            "Sub-array 1:\n",
            "[[4 5 6]]\n",
            "Sub-array 2:\n",
            "[[7 8 9]]\n",
            "\n",
            "Split array along axis 1:\n",
            "Sub-array 0:\n",
            "[[1]\n",
            " [4]\n",
            " [7]]\n",
            "Sub-array 1:\n",
            "[[2]\n",
            " [5]\n",
            " [8]]\n",
            "Sub-array 2:\n",
            "[[3]\n",
            " [6]\n",
            " [9]]\n"
          ]
        }
      ],
      "source": [
        "# 49. Create a function that splits an array into multiple sub-arrays along a specified axis.\n",
        "# original_array = np.array([[1, 2, 3], [4, 5, 6], [7, 8, 9]])\n",
        "# code\n",
        "\n",
        "import numpy as np\n",
        "\n",
        "def split_array(arr, num_splits, axis=0):\n",
        "\n",
        "    return np.array_split(arr, num_splits, axis=axis)\n",
        "\n",
        "original_array = np.array([[1, 2, 3], [4, 5, 6], [7, 8, 9]])\n",
        "print(\"Original array:\")\n",
        "print(original_array)\n",
        "\n",
        "sub_arrays_axis_0 = split_array(original_array, 3, axis=0)\n",
        "print(\"\\nSplit array along axis 0:\")\n",
        "for i, sub_array in enumerate(sub_arrays_axis_0):\n",
        "    print(f\"Sub-array {i}:\\n{sub_array}\")\n",
        "\n",
        "sub_arrays_axis_1 = split_array(original_array, 3, axis=1)\n",
        "print(\"\\nSplit array along axis 1:\")\n",
        "for i, sub_array in enumerate(sub_arrays_axis_1):\n",
        "    print(f\"Sub-array {i}:\\n{sub_array}\")\n"
      ]
    },
    {
      "cell_type": "code",
      "execution_count": 51,
      "id": "0d7b7e29-1bd2-42e1-92df-badd5752f6d4",
      "metadata": {
        "colab": {
          "base_uri": "https://localhost:8080/"
        },
        "id": "0d7b7e29-1bd2-42e1-92df-badd5752f6d4",
        "outputId": "3eb8da4f-ff2b-437e-d5cc-3126ff60893a"
      },
      "outputs": [
        {
          "output_type": "stream",
          "name": "stdout",
          "text": [
            "Original array:\n",
            "[1 2 3 4 5]\n",
            "\n",
            "Modified array after insertion and deletion:\n",
            "[ 1 10  4 11  5]\n"
          ]
        }
      ],
      "source": [
        "# 50. Write a function that inserts and then deletes elements from a given array at specified indices.\n",
        "# original_array = np.array([1, 2, 3, 4, 5])\n",
        "# indices_to_insert = [2, 4]\n",
        "# values_to_insert = [10, 11]\n",
        "# indices_to_delete = [1, 3]\n",
        "\n",
        "# code\n",
        "\n",
        "import numpy as np\n",
        "\n",
        "def insert_and_delete_elements(arr, indices_to_insert, values_to_insert, indices_to_delete):\n",
        "\n",
        "    modified_array = np.insert(arr, indices_to_insert, values_to_insert)\n",
        "\n",
        "    modified_array = np.delete(modified_array, indices_to_delete)\n",
        "\n",
        "    return modified_array\n",
        "\n",
        "original_array = np.array([1, 2, 3, 4, 5])\n",
        "indices_to_insert = [2, 4]\n",
        "values_to_insert = [10, 11]\n",
        "indices_to_delete = [1, 3]\n",
        "\n",
        "print(\"Original array:\")\n",
        "print(original_array)\n",
        "\n",
        "result = insert_and_delete_elements(original_array, indices_to_insert, values_to_insert, indices_to_delete)\n",
        "print(\"\\nModified array after insertion and deletion:\")\n",
        "print(result)\n",
        "\n",
        "\n"
      ]
    },
    {
      "cell_type": "code",
      "execution_count": 52,
      "id": "26e80a7c-f16b-4547-98bd-fa05e660fc70",
      "metadata": {
        "colab": {
          "base_uri": "https://localhost:8080/"
        },
        "id": "26e80a7c-f16b-4547-98bd-fa05e660fc70",
        "outputId": "eafea73a-1ca8-4dec-dcd6-7cd5f9a9bb60"
      },
      "outputs": [
        {
          "output_type": "stream",
          "name": "stdout",
          "text": [
            "Array arr1:\n",
            "[29 12  9 39 56 10 68 79 53 60]\n",
            "\n",
            "Array arr2:\n",
            "[ 1  2  3  4  5  6  7  8  9 10]\n",
            "\n",
            "Result of element-wise addition:\n",
            "[30 14 12 43 61 16 75 87 62 70]\n"
          ]
        }
      ],
      "source": [
        "# 51. Create a NumPy array arr1 with random integers and another array arr2 with integers from 1 to 10. Perform element-wise addition between arr1 and arr2.\n",
        "\n",
        "# code\n",
        "\n",
        "import numpy as np\n",
        "\n",
        "arr1 = np.random.randint(1, 100, size=10)\n",
        "print(\"Array arr1:\")\n",
        "print(arr1)\n",
        "\n",
        "arr2 = np.arange(1, 11)\n",
        "print(\"\\nArray arr2:\")\n",
        "print(arr2)\n",
        "\n",
        "result = arr1 + arr2\n",
        "print(\"\\nResult of element-wise addition:\")\n",
        "print(result)\n"
      ]
    },
    {
      "cell_type": "code",
      "execution_count": 53,
      "id": "3c58df0c-88e1-41ed-96fe-08422f7fd180",
      "metadata": {
        "colab": {
          "base_uri": "https://localhost:8080/"
        },
        "id": "3c58df0c-88e1-41ed-96fe-08422f7fd180",
        "outputId": "9e18bdbf-720a-4991-a6ab-924d84a02035"
      },
      "outputs": [
        {
          "output_type": "stream",
          "name": "stdout",
          "text": [
            "Array arr1:  [10  9  8  7  6  5  4  3  2  1]\n",
            "Array arr2:  [ 1  2  3  4  5  6  7  8  9 10]\n",
            "Result array:  [ 9  7  5  3  1 -1 -3 -5 -7 -9]\n"
          ]
        }
      ],
      "source": [
        "# 52. Generate a NumPy array arr1 with sequential integers from 10 to 1 and another array arr2 with integers from 1 to 10. Subtract arr2 from arr1 element-wise.\n",
        "\n",
        "# code\n",
        "\n",
        "\n",
        "import numpy as np\n",
        "\n",
        "arr1 = np.arange(10, 0, -1)\n",
        "arr2 = np.arange(1, 11)\n",
        "result = arr1 - arr2\n",
        "\n",
        "print(\"Array arr1: \", arr1)\n",
        "print(\"Array arr2: \", arr2)\n",
        "print(\"Result array: \", result)"
      ]
    },
    {
      "cell_type": "code",
      "execution_count": 54,
      "id": "01117ce1-0c2b-4109-a4b7-c67ba7c3cdee",
      "metadata": {
        "colab": {
          "base_uri": "https://localhost:8080/"
        },
        "id": "01117ce1-0c2b-4109-a4b7-c67ba7c3cdee",
        "outputId": "4960722a-d340-44e0-bc60-84c153becb77"
      },
      "outputs": [
        {
          "output_type": "stream",
          "name": "stdout",
          "text": [
            "Array arr1:  [2 4 3 5 3]\n",
            "Array arr2:  [1 2 3 4 5]\n",
            "Result array:  [[ 2  4  3  5  3]\n",
            " [ 4  8  6 10  6]\n",
            " [ 6 12  9 15  9]\n",
            " [ 8 16 12 20 12]\n",
            " [10 20 15 25 15]]\n"
          ]
        }
      ],
      "source": [
        "# 53. Create a NumPy array arr1 with random integers and another array arr2 with integers from 1 to 5. Perform element-wise multiplication between arr1 and arr2.\n",
        "\n",
        "# code\n",
        "\n",
        "\n",
        "import numpy as np\n",
        "\n",
        "arr1 = np.random.randint(1, 10, size=(5,))\n",
        "arr2 = np.arange(1, 6)\n",
        "result = arr1 * arr2[:, np.newaxis]\n",
        "\n",
        "print(\"Array arr1: \", arr1)\n",
        "print(\"Array arr2: \", arr2)\n",
        "print(\"Result array: \", result)"
      ]
    },
    {
      "cell_type": "code",
      "execution_count": 55,
      "id": "3da93256-2ba8-4b9d-ac55-0c3d61d1a2d5",
      "metadata": {
        "colab": {
          "base_uri": "https://localhost:8080/"
        },
        "id": "3da93256-2ba8-4b9d-ac55-0c3d61d1a2d5",
        "outputId": "52756aa8-4c36-4921-df4f-6f317a06ba2f"
      },
      "outputs": [
        {
          "output_type": "stream",
          "name": "stdout",
          "text": [
            "Array arr1:  [ 2  4  6  8 10]\n",
            "Array arr2:  [1 2 3 4 5]\n",
            "Result array:  [[ 2.          4.          6.          8.         10.        ]\n",
            " [ 1.          2.          3.          4.          5.        ]\n",
            " [ 0.66666667  1.33333333  2.          2.66666667  3.33333333]\n",
            " [ 0.5         1.          1.5         2.          2.5       ]\n",
            " [ 0.4         0.8         1.2         1.6         2.        ]]\n"
          ]
        }
      ],
      "source": [
        "# 54. Generate a NumPy array arr1 with even integers from 2 to 10 and another array arr2 with integers from 1 to 5. Perform element-wise division of arr1 by arr2.\n",
        "\n",
        "# code\n",
        "\n",
        "\n",
        "import numpy as np\n",
        "\n",
        "arr1 = np.arange(2, 12, 2)\n",
        "arr2 = np.arange(1, 6)\n",
        "\n",
        "result = arr1 / arr2[:, np.newaxis]\n",
        "\n",
        "print(\"Array arr1: \", arr1)\n",
        "print(\"Array arr2: \", arr2)\n",
        "print(\"Result array: \", result)"
      ]
    },
    {
      "cell_type": "code",
      "execution_count": 56,
      "id": "eae0a5a7-207b-4708-a3c2-88710af4a3a7",
      "metadata": {
        "colab": {
          "base_uri": "https://localhost:8080/"
        },
        "id": "eae0a5a7-207b-4708-a3c2-88710af4a3a7",
        "outputId": "4d361206-2e7a-4abb-cd58-b47401b609d5"
      },
      "outputs": [
        {
          "output_type": "stream",
          "name": "stdout",
          "text": [
            "Array arr1:  [1 2 3 4 5]\n",
            "Array arr2:  [5 4 3 2 1]\n",
            "Result array:  [ 1 16 27 16  5]\n"
          ]
        }
      ],
      "source": [
        "# 55. Create a NumPy array arr1 with integers from 1 to 5 and another array arr2 with the same numbers reversed. Calculate the exponentiation of arr1 raised to the power of arr2 element-wise.\n",
        "\n",
        "# code\n",
        "\n",
        "\n",
        "import numpy as np\n",
        "\n",
        "arr1 = np.array([1, 2, 3, 4, 5])\n",
        "arr2 = np.array([5, 4, 3, 2, 1])\n",
        "\n",
        "result = np.power(arr1, arr2)\n",
        "\n",
        "print(\"Array arr1: \", arr1)\n",
        "print(\"Array arr2: \", arr2)\n",
        "print(\"Result array: \", result)"
      ]
    },
    {
      "cell_type": "code",
      "execution_count": 57,
      "id": "fe8fe824-cf9e-4d52-8621-70785b4cccce",
      "metadata": {
        "colab": {
          "base_uri": "https://localhost:8080/"
        },
        "id": "fe8fe824-cf9e-4d52-8621-70785b4cccce",
        "outputId": "f05b5407-bb96-4607-8c7d-a22d7dbecd68"
      },
      "outputs": [
        {
          "output_type": "stream",
          "name": "stdout",
          "text": [
            "Array:  ['hello' 'world' 'hello' 'numpy' 'hello']\n",
            "Substring:  hello\n",
            "Number of occurrences:  3\n"
          ]
        }
      ],
      "source": [
        "# 56. Write a function that counts the occurrences of a specific substring within a NumPy array of strings.\n",
        "# arr = np.array(['hello', 'world', 'hello', 'numpy', 'hello'])\n",
        "# code\n",
        "\n",
        "\n",
        "import numpy as np\n",
        "\n",
        "def count_substring(arr, substring):\n",
        "\n",
        "    return np.sum(np.char.find(arr, substring) >= 0)\n",
        "\n",
        "arr = np.array(['hello', 'world', 'hello', 'numpy', 'hello'])\n",
        "substring = 'hello'\n",
        "\n",
        "result = count_substring(arr, substring)\n",
        "\n",
        "print(\"Array: \", arr)\n",
        "print(\"Substring: \", substring)\n",
        "print(\"Number of occurrences: \", result)"
      ]
    },
    {
      "cell_type": "code",
      "execution_count": 58,
      "id": "18314f6e-c650-43de-9e1d-1f3310751355",
      "metadata": {
        "colab": {
          "base_uri": "https://localhost:8080/"
        },
        "id": "18314f6e-c650-43de-9e1d-1f3310751355",
        "outputId": "5d50d6f1-00e2-4c12-a942-2ca02a5074f4"
      },
      "outputs": [
        {
          "output_type": "stream",
          "name": "stdout",
          "text": [
            "Original array of strings:\n",
            "['Hello World' 'NumPy Arrays' 'OpenAI GPT-3' 'Data Science']\n",
            "\n",
            "Uppercase characters extracted:\n",
            "['H', 'W', 'N', 'P', 'A', 'O', 'A', 'I', 'G', 'P', 'T', 'D', 'S']\n"
          ]
        }
      ],
      "source": [
        "# 57. Write a function that extracts uppercase characters from a NumPy array of strings.\n",
        "# arr = np.array(['Hello', 'World', 'OpenAI', 'GPT'])\n",
        "# code\n",
        "\n",
        "import numpy as np\n",
        "\n",
        "def extract_uppercase_characters(arr):\n",
        "\n",
        "    uppercase_characters = []\n",
        "    for string in arr:\n",
        "        for char in string:\n",
        "            if char.isupper():\n",
        "                uppercase_characters.append(char)\n",
        "    return uppercase_characters\n",
        "\n",
        "string_array = np.array([\"Hello World\", \"NumPy Arrays\", \"OpenAI GPT-3\", \"Data Science\"])\n",
        "print(\"Original array of strings:\")\n",
        "print(string_array)\n",
        "\n",
        "uppercase_characters = extract_uppercase_characters(string_array)\n",
        "print(\"\\nUppercase characters extracted:\")\n",
        "print(uppercase_characters)\n"
      ]
    },
    {
      "cell_type": "code",
      "execution_count": 59,
      "id": "00ce4514-bb1c-4402-b267-dd1a6ac2caa1",
      "metadata": {
        "colab": {
          "base_uri": "https://localhost:8080/"
        },
        "id": "00ce4514-bb1c-4402-b267-dd1a6ac2caa1",
        "outputId": "9637772d-44d0-4155-b5e6-963eb2c50e0e"
      },
      "outputs": [
        {
          "output_type": "stream",
          "name": "stdout",
          "text": [
            "Array:  ['apple' 'banana' 'grape' 'pineapple']\n",
            "Replaced array:  ['orange' 'banana' 'grape' 'pineorange']\n"
          ]
        }
      ],
      "source": [
        "# 58. Write a function that replaces occurrences of a substring in a NumPy array of strings with a new string.\n",
        "# arr = np.array(['apple', 'banana', 'grape', 'pineapple'])\n",
        "# code\n",
        "\n",
        "\n",
        "import numpy as np\n",
        "\n",
        "def replace_substring(arr, old_substring, new_substring):\n",
        "\n",
        "    return np.char.replace(arr, old_substring, new_substring)\n",
        "\n",
        "arr = np.array(['apple', 'banana', 'grape', 'pineapple'])\n",
        "\n",
        "result = replace_substring(arr, 'apple', 'orange')\n",
        "\n",
        "print(\"Array: \", arr)\n",
        "print(\"Replaced array: \", result)"
      ]
    },
    {
      "cell_type": "code",
      "execution_count": 60,
      "id": "98b4f763-8232-4b7e-950a-11e2c79f8813",
      "metadata": {
        "colab": {
          "base_uri": "https://localhost:8080/"
        },
        "id": "98b4f763-8232-4b7e-950a-11e2c79f8813",
        "outputId": "ecf59f7b-35e5-4d15-942d-d03b22095f4c"
      },
      "outputs": [
        {
          "output_type": "stream",
          "name": "stdout",
          "text": [
            "Array 1:  ['Hello' 'World']\n",
            "Array 2:  ['Open' 'AI']\n",
            "Concatenated array:  ['HelloOpen' 'WorldAI']\n"
          ]
        }
      ],
      "source": [
        "# 59. Write a function that concatenates strings in a NumPy array element-wise.\n",
        "# arr1 = np.array(['Hello', 'World'])\n",
        "\n",
        "# arr2 = np.array(['Open', 'AI'])\n",
        "# code\n",
        "\n",
        "\n",
        "import numpy as np\n",
        "\n",
        "def concatenate_strings(arr1, arr2):\n",
        "\n",
        "    return np.char.add(arr1, arr2)\n",
        "\n",
        "arr1 = np.array(['Hello', 'World'])\n",
        "arr2 = np.array(['Open', 'AI'])\n",
        "\n",
        "result = concatenate_strings(arr1, arr2)\n",
        "\n",
        "print(\"Array 1: \", arr1)\n",
        "print(\"Array 2: \", arr2)\n",
        "print(\"Concatenated array: \", result)"
      ]
    },
    {
      "cell_type": "code",
      "execution_count": 61,
      "id": "31e444a0-bf36-4fbf-a82a-48751fead88a",
      "metadata": {
        "colab": {
          "base_uri": "https://localhost:8080/"
        },
        "id": "31e444a0-bf36-4fbf-a82a-48751fead88a",
        "outputId": "917248a0-bd3f-4530-d4f7-1364239d13ce"
      },
      "outputs": [
        {
          "output_type": "stream",
          "name": "stdout",
          "text": [
            "Array:  ['apple' 'banana' 'grape' 'pineapple']\n",
            "Length of longest string:  9\n"
          ]
        }
      ],
      "source": [
        "# 60. Write a function that finds the length of the longest string in a NumPy array.\n",
        "# arr = np.array(['apple', 'banana', 'grape', 'pineapple'])\n",
        "# code\n",
        "\n",
        "\n",
        "import numpy as np\n",
        "\n",
        "def longest_string_length(arr):\n",
        "\n",
        "    return np.max(np.char.str_len(arr))\n",
        "\n",
        "arr = np.array(['apple', 'banana', 'grape', 'pineapple'])\n",
        "\n",
        "result = longest_string_length(arr)\n",
        "\n",
        "print(\"Array: \", arr)\n",
        "print(\"Length of longest string: \", result)"
      ]
    },
    {
      "cell_type": "code",
      "execution_count": 62,
      "id": "b3024653-ad5b-4dca-9f23-a193c2ae8a66",
      "metadata": {
        "colab": {
          "base_uri": "https://localhost:8080/"
        },
        "id": "b3024653-ad5b-4dca-9f23-a193c2ae8a66",
        "outputId": "b0547afb-be0e-4a7e-fcf4-86cc4312b3ac"
      },
      "outputs": [
        {
          "output_type": "stream",
          "name": "stdout",
          "text": [
            "Dataset:  [243 420 919 765 269 121 601 301 959 364 943 345 570 250 575 792 726 416\n",
            " 158 468 319 164 977 484 899 911 573 926 333 986 501 289 611 305 152 262\n",
            " 472 227 737 812 633 703  98 366 711 730 650 809 538 445 805 576 590 197\n",
            " 379 935  51 261 572 785  16 938 324 104 764 400  67  18 130 838 631 554\n",
            " 854  98 853 165 615 244 710 668  32 581 440 950 324 655 668 560 694 102\n",
            " 104 412 318 985 608  22 463 711 416 310]\n",
            "Mean:  503.25\n",
            "Median:  519.5\n",
            "Variance:  77438.8875\n",
            "Standard Deviation:  278.2784352047424\n"
          ]
        }
      ],
      "source": [
        "# 61. Create a dataset of 100 random integers between 1 and 1000. Compute the mean, median, variance, and standard deviation of the dataset using NumPy's functions.\n",
        "\n",
        "# code\n",
        "\n",
        "\n",
        "import numpy as np\n",
        "\n",
        "dataset = np.random.randint(1, 1001, size=100)\n",
        "\n",
        "mean = np.mean(dataset)\n",
        "median = np.median(dataset)\n",
        "variance = np.var(dataset)\n",
        "std_deviation = np.std(dataset)\n",
        "\n",
        "print(\"Dataset: \", dataset)\n",
        "print(\"Mean: \", mean)\n",
        "print(\"Median: \", median)\n",
        "print(\"Variance: \", variance)\n",
        "print(\"Standard Deviation: \", std_deviation)"
      ]
    },
    {
      "cell_type": "code",
      "execution_count": 63,
      "id": "00dac22b-5d5a-4c6f-9e80-35088b8d76ed",
      "metadata": {
        "colab": {
          "base_uri": "https://localhost:8080/"
        },
        "id": "00dac22b-5d5a-4c6f-9e80-35088b8d76ed",
        "outputId": "257ea956-dfd6-4c01-923c-6b3874ebc9ad"
      },
      "outputs": [
        {
          "output_type": "stream",
          "name": "stdout",
          "text": [
            "Dataset:  [22 69 29 88 73 44 16 72 42 43 71 39  5 90 92 86 22 70 54 92 66 25  2  1\n",
            " 21  6 58 45 69 48 91  5  3 88 89 17 75  3 19 28 85 65 43 20 20 79  5 50\n",
            " 72 67]\n",
            "25th percentile:  20.25\n",
            "75th percentile:  72.0\n"
          ]
        }
      ],
      "source": [
        "# 62. Generate an array of 50 random numbers between 1 and 100. Find the 25th and 75th percentiles of the dataset.\n",
        "\n",
        "# code\n",
        "\n",
        "\n",
        "import numpy as np\n",
        "\n",
        "dataset = np.random.randint(1, 101, size=50)\n",
        "\n",
        "q1 = np.percentile(dataset, 25)\n",
        "q3 = np.percentile(dataset, 75)\n",
        "\n",
        "print(\"Dataset: \", dataset)\n",
        "print(\"25th percentile: \", q1)\n",
        "print(\"75th percentile: \", q3)"
      ]
    },
    {
      "cell_type": "code",
      "execution_count": 64,
      "id": "64716ae5-17ad-4c11-b6b5-b849bfdd9e88",
      "metadata": {
        "colab": {
          "base_uri": "https://localhost:8080/"
        },
        "id": "64716ae5-17ad-4c11-b6b5-b849bfdd9e88",
        "outputId": "94702197-53c8-420d-ffc3-ecf52101f7f4"
      },
      "outputs": [
        {
          "output_type": "stream",
          "name": "stdout",
          "text": [
            "Array 1:  [1 2 3 4 5]\n",
            "Array 2:  [2 3 5 6 7]\n",
            "Correlation coefficient:  0.9912407071619304\n"
          ]
        }
      ],
      "source": [
        "# 63. Create two arrays representing two sets of variables. Compute the correlation coefficient between these arrays using NumPy's corrcoef function.\n",
        "\n",
        "# code\n",
        "\n",
        "\n",
        "import numpy as np\n",
        "\n",
        "array1 = np.array([1, 2, 3, 4, 5])\n",
        "array2 = np.array([2, 3, 5, 6, 7])\n",
        "\n",
        "result = np.corrcoef(array1, array2)[0, 1]\n",
        "\n",
        "print(\"Array 1: \", array1)\n",
        "print(\"Array 2: \", array2)\n",
        "print(\"Correlation coefficient: \", result)"
      ]
    },
    {
      "cell_type": "code",
      "execution_count": 65,
      "id": "8310efee-6719-4697-ab42-11abf13f3eaf",
      "metadata": {
        "colab": {
          "base_uri": "https://localhost:8080/"
        },
        "id": "8310efee-6719-4697-ab42-11abf13f3eaf",
        "outputId": "7e1e4ca5-f3a6-4f71-868b-bc0faa41f3b9"
      },
      "outputs": [
        {
          "output_type": "stream",
          "name": "stdout",
          "text": [
            "Matrix 1:\n",
            "[[1 2 3]\n",
            " [4 5 6]]\n",
            "\n",
            "Matrix 2:\n",
            "[[ 7  8]\n",
            " [ 9 10]\n",
            " [11 12]]\n",
            "\n",
            "Result:\n",
            "[[ 58  64]\n",
            " [139 154]]\n"
          ]
        }
      ],
      "source": [
        "# 64. Create two matrices and perform matrix multiplication using NumPy's dot function.\n",
        "\n",
        "# code\n",
        "\n",
        "\n",
        "import numpy as np\n",
        "\n",
        "matrix1 = np.array([[1, 2, 3],\n",
        "                     [4, 5, 6]])\n",
        "matrix2 = np.array([[7, 8],\n",
        "                     [9, 10],\n",
        "                     [11, 12]])\n",
        "\n",
        "result = np.dot(matrix1, matrix2)\n",
        "\n",
        "print(\"Matrix 1:\")\n",
        "print(matrix1)\n",
        "print(\"\\nMatrix 2:\")\n",
        "print(matrix2)\n",
        "print(\"\\nResult:\")\n",
        "print(result)"
      ]
    },
    {
      "cell_type": "code",
      "execution_count": 66,
      "id": "46146940-0644-4b6c-8862-1f8072088fdc",
      "metadata": {
        "colab": {
          "base_uri": "https://localhost:8080/"
        },
        "id": "46146940-0644-4b6c-8862-1f8072088fdc",
        "outputId": "10f8a545-00b9-40f8-b7d7-7de134bec4fe"
      },
      "outputs": [
        {
          "output_type": "stream",
          "name": "stdout",
          "text": [
            "Array:\n",
            "[258 440  89 333 152 731 656 583 461  40 348 667 221 465 360 892 602 592\n",
            " 148 198 163  67 602 545 756 376 627 252 557 907 671 164 570 493 494 754\n",
            " 791 938  54 554 704 916 619 517 871 170 622 225 346 913]\n",
            "\n",
            "Percentiles:\n",
            "10th percentile:  151.6\n",
            "50th percentile (median):  531.0\n",
            "90th percentile:  873.1\n",
            "\n",
            "Quartiles:\n",
            "1st quartile:  253.5\n",
            "3rd quartile:  664.25\n"
          ]
        }
      ],
      "source": [
        "# 65. Create an array of 50 integers between 10 and 1000. Calculate the 10th, 50th (median), and 90th percentiles along with the first and third quartiles.\n",
        "\n",
        "# code\n",
        "\n",
        "\n",
        "import numpy as np\n",
        "\n",
        "array = np.random.randint(10, 1001, size=50)\n",
        "\n",
        "p10 = np.percentile(array, 10)\n",
        "p50 = np.percentile(array, 50)\n",
        "p90 = np.percentile(array, 90)\n",
        "\n",
        "q1 = np.percentile(array, 25)\n",
        "q3 = np.percentile(array, 75)\n",
        "\n",
        "print(\"Array:\")\n",
        "print(array)\n",
        "print(\"\\nPercentiles:\")\n",
        "print(\"10th percentile: \", p10)\n",
        "print(\"50th percentile (median): \", p50)\n",
        "print(\"90th percentile: \", p90)\n",
        "print(\"\\nQuartiles:\")\n",
        "print(\"1st quartile: \", q1)\n",
        "print(\"3rd quartile: \", q3)"
      ]
    },
    {
      "cell_type": "code",
      "execution_count": 67,
      "id": "ec39c175-98d3-441f-a86d-ceb6382e08d7",
      "metadata": {
        "colab": {
          "base_uri": "https://localhost:8080/"
        },
        "id": "ec39c175-98d3-441f-a86d-ceb6382e08d7",
        "outputId": "48ee3d1e-f000-42ec-90b2-dc887453da8d"
      },
      "outputs": [
        {
          "output_type": "stream",
          "name": "stdout",
          "text": [
            "Array:\n",
            "[ 1  2  3  4  5  6  7  8  9 10]\n",
            "\n",
            "Index of 7:  6\n"
          ]
        }
      ],
      "source": [
        "# 66. Create a NumPy array of integers and find the index of a specific element.\n",
        "\n",
        "# code\n",
        "\n",
        "\n",
        "import numpy as np\n",
        "\n",
        "array = np.array([1, 2, 3, 4, 5, 6, 7, 8, 9, 10])\n",
        "\n",
        "index = np.where(array == 7)[0][0]\n",
        "\n",
        "print(\"Array:\")\n",
        "print(array)\n",
        "print(\"\\nIndex of 7: \", index)"
      ]
    },
    {
      "cell_type": "code",
      "execution_count": 68,
      "id": "16499331-3416-4bb6-98d9-4d16c82a6685",
      "metadata": {
        "colab": {
          "base_uri": "https://localhost:8080/"
        },
        "id": "16499331-3416-4bb6-98d9-4d16c82a6685",
        "outputId": "e2692f57-bfc3-40f8-c24e-a91ce743ed96"
      },
      "outputs": [
        {
          "output_type": "stream",
          "name": "stdout",
          "text": [
            "Original array:\n",
            "[0.07258424 0.82088969 0.44834761 0.14341792 0.09903848 0.71566356\n",
            " 0.60065218 0.12633413 0.98176295 0.68743915]\n",
            "\n",
            "Sorted array:\n",
            "[0.07258424 0.09903848 0.12633413 0.14341792 0.44834761 0.60065218\n",
            " 0.68743915 0.71566356 0.82088969 0.98176295]\n"
          ]
        }
      ],
      "source": [
        "# 67. Generate a random NumPy array and sort it in ascending order.\n",
        "\n",
        "# code\n",
        "\n",
        "\n",
        "import numpy as np\n",
        "\n",
        "array = np.random.rand(10)\n",
        "\n",
        "sorted_array = np.sort(array)\n",
        "\n",
        "print(\"Original array:\")\n",
        "print(array)\n",
        "print(\"\\nSorted array:\")\n",
        "print(sorted_array)"
      ]
    },
    {
      "cell_type": "code",
      "execution_count": 69,
      "id": "92dc84d7-18e7-41ec-af55-6c656c1f4b2e",
      "metadata": {
        "colab": {
          "base_uri": "https://localhost:8080/"
        },
        "id": "92dc84d7-18e7-41ec-af55-6c656c1f4b2e",
        "outputId": "dc48a076-38b3-4493-bb03-56b437717926"
      },
      "outputs": [
        {
          "output_type": "stream",
          "name": "stdout",
          "text": [
            "Original array:\n",
            "[12 25  6 42  8 30]\n",
            "\n",
            "Filtered array:\n",
            "[25 42 30]\n"
          ]
        }
      ],
      "source": [
        "# 68. Filter elements >20 in the given NumPy array.\n",
        "# arr = np.array([12, 25, 6, 42, 8, 30])\n",
        "# code\n",
        "\n",
        "\n",
        "import numpy as np\n",
        "\n",
        "arr = np.array([12, 25, 6, 42, 8, 30])\n",
        "\n",
        "filtered_arr = arr[arr > 20]\n",
        "\n",
        "print(\"Original array:\")\n",
        "print(arr)\n",
        "print(\"\\nFiltered array:\")\n",
        "print(filtered_arr)"
      ]
    },
    {
      "cell_type": "code",
      "execution_count": 70,
      "id": "02fd8193-cc4b-49e1-ba8b-9c4e8929a286",
      "metadata": {
        "colab": {
          "base_uri": "https://localhost:8080/"
        },
        "id": "02fd8193-cc4b-49e1-ba8b-9c4e8929a286",
        "outputId": "b6f488e4-dba7-46e0-8829-d650521e3d55"
      },
      "outputs": [
        {
          "output_type": "stream",
          "name": "stdout",
          "text": [
            "Original array:\n",
            "[ 1  5  8 12 15]\n",
            "\n",
            "Filtered array:\n",
            "[12 15]\n"
          ]
        }
      ],
      "source": [
        "# 69. Filter elements which are divisible by 3 from a given NumPy array.\n",
        "# arr = np.array([1, 5, 8, 12, 15])\n",
        "# code\n",
        "\n",
        "\n",
        "import numpy as np\n",
        "\n",
        "arr = np.array([1, 5, 8, 12, 15])\n",
        "\n",
        "filtered_arr = arr[arr % 3 == 0]\n",
        "print(\"Original array:\")\n",
        "print(arr)\n",
        "print(\"\\nFiltered array:\")\n",
        "print(filtered_arr)\n"
      ]
    },
    {
      "cell_type": "code",
      "execution_count": 71,
      "id": "b2561bce-51f4-43a8-bfe4-6e4f9727d3b4",
      "metadata": {
        "colab": {
          "base_uri": "https://localhost:8080/"
        },
        "id": "b2561bce-51f4-43a8-bfe4-6e4f9727d3b4",
        "outputId": "9617b27d-c779-4aae-c613-163c3e29b5d0"
      },
      "outputs": [
        {
          "output_type": "stream",
          "name": "stdout",
          "text": [
            "Original array:\n",
            "[10 20 30 40 50]\n",
            "\n",
            "Filtered array:\n",
            "[20 30 40]\n"
          ]
        }
      ],
      "source": [
        "# 70. Filter elements which are ≥ 20 and ≤ 40 from a given NumPy array.\n",
        "# arr = np.array([10, 20, 30, 40, 50])\n",
        "# code\n",
        "\n",
        "\n",
        "import numpy as np\n",
        "\n",
        "arr = np.array([10, 20, 30, 40, 50])\n",
        "filtered_arr = arr[(arr >= 20) & (arr <= 40)]\n",
        "\n",
        "print(\"Original array:\")\n",
        "print(arr)\n",
        "print(\"\\nFiltered array:\")\n",
        "print(filtered_arr)"
      ]
    },
    {
      "cell_type": "code",
      "execution_count": 72,
      "id": "5ff66008-1367-4009-b15f-57473904cd43",
      "metadata": {
        "colab": {
          "base_uri": "https://localhost:8080/"
        },
        "id": "5ff66008-1367-4009-b15f-57473904cd43",
        "outputId": "cc8c2d2b-a175-4bf2-f723-9412f31117a5"
      },
      "outputs": [
        {
          "output_type": "stream",
          "name": "stdout",
          "text": [
            "Original array:\n",
            "[1 2 3]\n",
            "\n",
            "Byte order of the array:\n",
            "=\n",
            "Native byte order (depends on system endianness)\n"
          ]
        }
      ],
      "source": [
        "# 71. For the given NumPy array, check its byte order using the dtype attribute byteorder.\n",
        "# arr = np.array([1, 2, 3])\n",
        "\n",
        "# code\n",
        "\n",
        "import numpy as np\n",
        "arr = np.array([1, 2, 3])\n",
        "print(\"Original array:\")\n",
        "print(arr)\n",
        "\n",
        "byte_order = arr.dtype.byteorder\n",
        "print(\"\\nByte order of the array:\")\n",
        "print(byte_order)\n",
        "\n",
        "if byte_order == '<':\n",
        "    print(\"Little-endian\")\n",
        "elif byte_order == '>':\n",
        "    print(\"Big-endian\")\n",
        "else:\n",
        "    print(\"Native byte order (depends on system endianness)\")\n",
        "\n"
      ]
    },
    {
      "cell_type": "code",
      "execution_count": 73,
      "id": "6c0cf790-6217-4824-bb3b-9e4d90fa57bc",
      "metadata": {
        "colab": {
          "base_uri": "https://localhost:8080/"
        },
        "id": "6c0cf790-6217-4824-bb3b-9e4d90fa57bc",
        "outputId": "f1dce9da-ba13-47f4-f087-2902c862e327"
      },
      "outputs": [
        {
          "output_type": "stream",
          "name": "stdout",
          "text": [
            "Original array:\n",
            "[1 2 3]\n",
            "\n",
            "Array after byte swapping:\n",
            "[16777216 33554432 50331648]\n"
          ]
        }
      ],
      "source": [
        "# 72. For the given NumPy array, perform byte swapping in place using 'byteswap()`.\n",
        "# arr = np.array ([1, 2, 3], dtype=np.int32)\n",
        "\n",
        "# code\n",
        "import numpy as np\n",
        "\n",
        "arr = np.array([1, 2, 3], dtype=np.int32)\n",
        "print(\"Original array:\")\n",
        "print(arr)\n",
        "\n",
        "arr.byteswap(True)\n",
        "print(\"\\nArray after byte swapping:\")\n",
        "print(arr)\n"
      ]
    },
    {
      "cell_type": "code",
      "execution_count": 74,
      "id": "48875ba3-05ae-4c0b-a55f-6bb6abf447d8",
      "metadata": {
        "colab": {
          "base_uri": "https://localhost:8080/"
        },
        "id": "48875ba3-05ae-4c0b-a55f-6bb6abf447d8",
        "outputId": "3539c815-1363-470f-906f-552bd98deaa3"
      },
      "outputs": [
        {
          "output_type": "stream",
          "name": "stdout",
          "text": [
            "Original array:\n",
            "[1 2 3]\n",
            "\n",
            "Array after byte swapping (without modifying the original):\n",
            "[16777216 33554432 50331648]\n"
          ]
        }
      ],
      "source": [
        "# 73. For the given NumPy array, swap its byte order without modifying the original array using `newbyteorder()`.\n",
        "# arr = np.array ([1, 2, 3], dtype=np.int32)\n",
        "# code\n",
        "\n",
        "import numpy as np\n",
        "\n",
        "arr = np.array([1, 2, 3], dtype=np.int32)\n",
        "print(\"Original array:\")\n",
        "print(arr)\n",
        "\n",
        "swapped_array = arr.newbyteorder()\n",
        "print(\"\\nArray after byte swapping (without modifying the original):\")\n",
        "print(swapped_array)\n"
      ]
    },
    {
      "cell_type": "code",
      "execution_count": 75,
      "id": "585e7d9d-1b28-423e-b557-427f55ac8006",
      "metadata": {
        "colab": {
          "base_uri": "https://localhost:8080/"
        },
        "id": "585e7d9d-1b28-423e-b557-427f55ac8006",
        "outputId": "6468d97b-72b0-4456-c663-e6a1f4fa6b91"
      },
      "outputs": [
        {
          "output_type": "stream",
          "name": "stdout",
          "text": [
            "Original array:\n",
            "[1 2 3]\n",
            "\n",
            "System is little-endian. Swapping byte order.\n",
            "\n",
            "Array after conditional byte swapping:\n",
            "[16777216 33554432 50331648]\n"
          ]
        }
      ],
      "source": [
        "# 74. For the given NumPy array and swap its byte order conditionally based on system endianness using `newbyteorder()`.\n",
        "# arr = np.array ([1, 2, 3], dtype=np.int32)\n",
        "\n",
        "# code\n",
        "import numpy as np\n",
        "\n",
        "arr = np.array([1, 2, 3], dtype=np.int32)\n",
        "print(\"Original array:\")\n",
        "print(arr)\n",
        "\n",
        "if arr.dtype.byteorder == '<' or (arr.dtype.byteorder == '=' and np.little_endian):\n",
        "    swapped_array = arr.newbyteorder()\n",
        "    print(\"\\nSystem is little-endian. Swapping byte order.\")\n",
        "else:\n",
        "    swapped_array = arr.copy()\n",
        "    print(\"\\nSystem is big-endian. No need to swap byte order.\")\n",
        "\n",
        "print(\"\\nArray after conditional byte swapping:\")\n",
        "print(swapped_array)\n"
      ]
    },
    {
      "cell_type": "code",
      "execution_count": 76,
      "id": "7a7e1de7-c8ee-44cc-946d-3309f9b1ddcb",
      "metadata": {
        "colab": {
          "base_uri": "https://localhost:8080/"
        },
        "id": "7a7e1de7-c8ee-44cc-946d-3309f9b1ddcb",
        "outputId": "f59ef574-f5bf-4073-e31a-df3fdeb62557"
      },
      "outputs": [
        {
          "output_type": "stream",
          "name": "stdout",
          "text": [
            "Original array:\n",
            "[1 2 3]\n",
            "\n",
            "System is little-endian. Byte swapping is necessary.\n"
          ]
        }
      ],
      "source": [
        "# 75. For the given NumPy array, check if byte swapping is necessary for the current system using`dtype` attribute 'byteorder`.\n",
        "# arr = np.array ([1, 2, 3], dtype=np.int32)\n",
        "\n",
        "# code\n",
        "import numpy as np\n",
        "\n",
        "arr = np.array([1, 2, 3], dtype=np.int32)\n",
        "print(\"Original array:\")\n",
        "print(arr)\n",
        "\n",
        "if arr.dtype.byteorder == '<' or (arr.dtype.byteorder == '=' and np.little_endian):\n",
        "    print(\"\\nSystem is little-endian. Byte swapping is necessary.\")\n",
        "else:\n",
        "    print(\"\\nSystem is big-endian. Byte swapping is not necessary.\")\n"
      ]
    },
    {
      "cell_type": "code",
      "execution_count": 77,
      "id": "235ff8db-a9d4-4c8f-b8d5-e80d8d357675",
      "metadata": {
        "colab": {
          "base_uri": "https://localhost:8080/"
        },
        "id": "235ff8db-a9d4-4c8f-b8d5-e80d8d357675",
        "outputId": "23b56599-d472-493e-b916-f619601d9378"
      },
      "outputs": [
        {
          "output_type": "stream",
          "name": "stdout",
          "text": [
            "Original array arr1:\n",
            "[ 1  2  3  4  5  6  7  8  9 10]\n",
            "Modified array copy_arr:\n",
            "[100   2   3   4   5   6   7   8   9  10]\n",
            "Modifying copy_arr does not affect arr1.\n"
          ]
        }
      ],
      "source": [
        "#76. Create a NumPy array `arr1` with values from 1 to 10. Create a copy of `arr1` named `copy_arr` and modify an element in `copy_arr`. Check if modifying `copy_arr` affects `arr1`.\n",
        "\n",
        "# code\n",
        "\n",
        "\n",
        "import numpy as np\n",
        "\n",
        "arr1 = np.arange(1, 11)\n",
        "copy_arr = arr1.copy()\n",
        "\n",
        "copy_arr[0] = 100\n",
        "\n",
        "print(\"Original array arr1:\")\n",
        "print(arr1)\n",
        "\n",
        "print(\"Modified array copy_arr:\")\n",
        "print(copy_arr)\n",
        "\n",
        "if np.array_equal(arr1, copy_arr):\n",
        "    print(\"Modifying copy_arr affects arr1.\")\n",
        "else:\n",
        "    print(\"Modifying copy_arr does not affect arr1.\")"
      ]
    },
    {
      "cell_type": "code",
      "execution_count": 78,
      "id": "f4e859d6-0a0a-4a5a-9a30-3ac72cb3af07",
      "metadata": {
        "colab": {
          "base_uri": "https://localhost:8080/"
        },
        "id": "f4e859d6-0a0a-4a5a-9a30-3ac72cb3af07",
        "outputId": "a4500161-7653-4881-c8d1-9277b2719248"
      },
      "outputs": [
        {
          "output_type": "stream",
          "name": "stdout",
          "text": [
            "Original matrix:\n",
            "[[73 66 64]\n",
            " [70 34 13]\n",
            " [75 86  3]]\n",
            "\n",
            "Extracted slice (view_slice):\n",
            "[[34 13]\n",
            " [86  3]]\n",
            "\n",
            "Modified slice (view_slice):\n",
            "[[999  13]\n",
            " [ 86   3]]\n",
            "\n",
            "Matrix after modifying the slice:\n",
            "[[ 73  66  64]\n",
            " [ 70 999  13]\n",
            " [ 75  86   3]]\n"
          ]
        }
      ],
      "source": [
        "# 77. Create a 2D NumPy array `matrix` of shape (3, 3) with random integers. Extract a slice `view_slice` from  the matrix. Modify an element in `view_slice` and observe if it changes the original `matrix`.\n",
        "\n",
        "# code\n",
        "import numpy as np\n",
        "\n",
        "matrix = np.random.randint(1, 100, size=(3, 3))\n",
        "print(\"Original matrix:\")\n",
        "print(matrix)\n",
        "\n",
        "view_slice = matrix[1:, 1:]\n",
        "print(\"\\nExtracted slice (view_slice):\")\n",
        "print(view_slice)\n",
        "\n",
        "view_slice[0, 0] = 999\n",
        "print(\"\\nModified slice (view_slice):\")\n",
        "print(view_slice)\n",
        "\n",
        "print(\"\\nMatrix after modifying the slice:\")\n",
        "print(matrix)\n"
      ]
    },
    {
      "cell_type": "code",
      "execution_count": 79,
      "id": "51af53f0-75da-484b-b901-6edc3bd0c5c6",
      "metadata": {
        "colab": {
          "base_uri": "https://localhost:8080/"
        },
        "id": "51af53f0-75da-484b-b901-6edc3bd0c5c6",
        "outputId": "3316f572-9a26-4c28-b035-7af700da8c77"
      },
      "outputs": [
        {
          "output_type": "stream",
          "name": "stdout",
          "text": [
            "Original array (array_a):\n",
            "[[ 1  2  3]\n",
            " [ 4  5  6]\n",
            " [ 7  8  9]\n",
            " [10 11 12]]\n",
            "\n",
            "Extracted slice (view_b):\n",
            "[[4 5 6]\n",
            " [7 8 9]]\n",
            "\n",
            "Modified slice (view_b) after broadcasting addition of 5:\n",
            "[[ 9 10 11]\n",
            " [12 13 14]]\n",
            "\n",
            "Original array (array_a) after modifying the slice:\n",
            "[[ 1  2  3]\n",
            " [ 9 10 11]\n",
            " [12 13 14]\n",
            " [10 11 12]]\n"
          ]
        }
      ],
      "source": [
        "# 78. Create a NumPy array array_a of shape (4, 3) with sequential integers from 1 to 12. Extract a slice view_b from array_a and broadcast the addition of 5 to view_b. Check if it alters the original array_a.\n",
        "\n",
        "# code\n",
        "import numpy as np\n",
        "\n",
        "array_a = np.arange(1, 13).reshape(4, 3)\n",
        "print(\"Original array (array_a):\")\n",
        "print(array_a)\n",
        "\n",
        "view_b = array_a[1:3, :]\n",
        "print(\"\\nExtracted slice (view_b):\")\n",
        "print(view_b)\n",
        "\n",
        "view_b += 5\n",
        "print(\"\\nModified slice (view_b) after broadcasting addition of 5:\")\n",
        "print(view_b)\n",
        "\n",
        "print(\"\\nOriginal array (array_a) after modifying the slice:\")\n",
        "print(array_a)\n",
        "\n"
      ]
    },
    {
      "cell_type": "code",
      "execution_count": 80,
      "id": "d4e230d2-d109-45d1-916f-d7f2d18cde44",
      "metadata": {
        "colab": {
          "base_uri": "https://localhost:8080/"
        },
        "id": "d4e230d2-d109-45d1-916f-d7f2d18cde44",
        "outputId": "7c6ead4e-5d07-4ce4-a8cd-5a561cf1e1aa"
      },
      "outputs": [
        {
          "output_type": "stream",
          "name": "stdout",
          "text": [
            "Original array (orig_array):\n",
            "[[1 2 3 4]\n",
            " [5 6 7 8]]\n",
            "\n",
            "Reshaped view (reshaped_view):\n",
            "[[1 2]\n",
            " [3 4]\n",
            " [5 6]\n",
            " [7 8]]\n",
            "\n",
            "Modified view (reshaped_view):\n",
            "[[999   2]\n",
            " [  3   4]\n",
            " [  5   6]\n",
            " [  7   8]]\n",
            "\n",
            "Original array after modifying the view:\n",
            "[[999   2   3   4]\n",
            " [  5   6   7   8]]\n"
          ]
        }
      ],
      "source": [
        "# 79. Create a NumPy array `orig_array` of shape (2, 4) with values from 1 to 8. Create a reshaped view `reshaped_view` of shape (4, 2) from orig_array. Modify an element in `reshaped_view` and check if it reflects changes in the original `orig_array`.\n",
        "\n",
        "# code\n",
        "\n",
        "import numpy as np\n",
        "\n",
        "orig_array = np.arange(1, 9).reshape(2, 4)\n",
        "print(\"Original array (orig_array):\")\n",
        "print(orig_array)\n",
        "\n",
        "reshaped_view = orig_array.reshape(4, 2)\n",
        "print(\"\\nReshaped view (reshaped_view):\")\n",
        "print(reshaped_view)\n",
        "\n",
        "reshaped_view[0, 0] = 999\n",
        "print(\"\\nModified view (reshaped_view):\")\n",
        "print(reshaped_view)\n",
        "\n",
        "print(\"\\nOriginal array after modifying the view:\")\n",
        "print(orig_array)\n"
      ]
    },
    {
      "cell_type": "code",
      "execution_count": 81,
      "id": "8b651f60-fe80-45e6-b3bf-d9f2ed1fab80",
      "metadata": {
        "colab": {
          "base_uri": "https://localhost:8080/"
        },
        "id": "8b651f60-fe80-45e6-b3bf-d9f2ed1fab80",
        "outputId": "081f0aa6-6dec-40a7-c6be-52ffe8f4ac8d"
      },
      "outputs": [
        {
          "output_type": "stream",
          "name": "stdout",
          "text": [
            "Original array (data):\n",
            "[[4 9 2 3]\n",
            " [9 7 6 8]\n",
            " [9 8 9 5]]\n",
            "\n",
            "Copy of elements greater than 5 (data_copy):\n",
            "[9 9 7 6 8 9 8 9]\n",
            "\n",
            "Modified copy (data_copy):\n",
            "[999   9   7   6   8   9   8   9]\n",
            "\n",
            "Original array (data) after modifying the copy:\n",
            "[[4 9 2 3]\n",
            " [9 7 6 8]\n",
            " [9 8 9 5]]\n"
          ]
        }
      ],
      "source": [
        "# 80. Create a NumPy array data of shape (3, 4) with random integers. Extract a copy data_copy of elements greater than 5. Modify an element in data_copy and verify if it affects the original data.\n",
        "\n",
        "# code\n",
        "import numpy as np\n",
        "\n",
        "data = np.random.randint(1, 10, size=(3, 4))\n",
        "print(\"Original array (data):\")\n",
        "print(data)\n",
        "\n",
        "data_copy = data[data > 5].copy()\n",
        "print(\"\\nCopy of elements greater than 5 (data_copy):\")\n",
        "print(data_copy)\n",
        "\n",
        "data_copy[0] = 999\n",
        "print(\"\\nModified copy (data_copy):\")\n",
        "print(data_copy)\n",
        "\n",
        "print(\"\\nOriginal array (data) after modifying the copy:\")\n",
        "print(data)\n",
        "\n"
      ]
    },
    {
      "cell_type": "code",
      "execution_count": 82,
      "id": "f20f791d-bc26-4035-ac04-53b800fd4dc7",
      "metadata": {
        "colab": {
          "base_uri": "https://localhost:8080/"
        },
        "id": "f20f791d-bc26-4035-ac04-53b800fd4dc7",
        "outputId": "530858d6-2d37-4507-9bff-d1f5df3cb97e"
      },
      "outputs": [
        {
          "output_type": "stream",
          "name": "stdout",
          "text": [
            "Matrix A:\n",
            "[[ 1  2  3  4]\n",
            " [ 5  6  7  8]\n",
            " [ 9 10 11 12]]\n",
            "Matrix B:\n",
            "[[10  9  8  7]\n",
            " [ 6  5  4  3]\n",
            " [ 2  1  0 -1]]\n",
            "Matrix C_add (A + B):\n",
            "[[11 11 11 11]\n",
            " [11 11 11 11]\n",
            " [11 11 11 11]]\n",
            "Matrix C_sub (A - B):\n",
            "[[-9 -7 -5 -3]\n",
            " [-1  1  3  5]\n",
            " [ 7  9 11 13]]\n"
          ]
        }
      ],
      "source": [
        "# 81. Create two matrices A and B of identical shape containing integers and perform addition and subtraction operations between them.\n",
        "\n",
        "# code\n",
        "\n",
        "\n",
        "import numpy as np\n",
        "A = np.array([[1, 2, 3, 4],\n",
        "              [5, 6, 7, 8],\n",
        "              [9, 10, 11, 12]])\n",
        "\n",
        "B = np.array([[10, 9, 8, 7],\n",
        "              [6, 5, 4, 3],\n",
        "              [2, 1, 0, -1]])\n",
        "\n",
        "print(\"Matrix A:\")\n",
        "print(A)\n",
        "\n",
        "print(\"Matrix B:\")\n",
        "print(B)\n",
        "\n",
        "C_add = A + B\n",
        "C_sub = A - B\n",
        "\n",
        "print(\"Matrix C_add (A + B):\")\n",
        "print(C_add)\n",
        "\n",
        "print(\"Matrix C_sub (A - B):\")\n",
        "print(C_sub)"
      ]
    },
    {
      "cell_type": "code",
      "execution_count": 83,
      "id": "b6675948-53a9-4577-98d4-80d4c515d827",
      "metadata": {
        "colab": {
          "base_uri": "https://localhost:8080/"
        },
        "id": "b6675948-53a9-4577-98d4-80d4c515d827",
        "outputId": "2d10e652-b480-4423-9376-65efd27d3973"
      },
      "outputs": [
        {
          "output_type": "stream",
          "name": "stdout",
          "text": [
            "Matrix C:\n",
            "[[2 1]\n",
            " [7 9]\n",
            " [6 1]]\n",
            "\n",
            "Matrix D:\n",
            "[[6 2 8 5]\n",
            " [6 8 9 2]]\n",
            "\n",
            "Result of matrix multiplication:\n",
            "[[ 18  12  25  12]\n",
            " [ 96  86 137  53]\n",
            " [ 42  20  57  32]]\n"
          ]
        }
      ],
      "source": [
        "# 82. Generate two matrices `C` (3x2) and `D` (2x4) and perform matrix multiplication.\n",
        "\n",
        "# code\n",
        "\n",
        "import numpy as np\n",
        "\n",
        "C = np.random.randint(1, 10, size=(3, 2))\n",
        "D = np.random.randint(1, 10, size=(2, 4))\n",
        "\n",
        "print(\"Matrix C:\")\n",
        "print(C)\n",
        "print(\"\\nMatrix D:\")\n",
        "print(D)\n",
        "\n",
        "result = np.dot(C, D)\n",
        "\n",
        "print(\"\\nResult of matrix multiplication:\")\n",
        "print(result)\n"
      ]
    },
    {
      "cell_type": "code",
      "execution_count": 84,
      "id": "b32fa618-030a-4d0f-9d78-c6e0c5ba15ee",
      "metadata": {
        "colab": {
          "base_uri": "https://localhost:8080/"
        },
        "id": "b32fa618-030a-4d0f-9d78-c6e0c5ba15ee",
        "outputId": "30cbdaa3-7230-46d1-bd3a-c0c20c5d6975"
      },
      "outputs": [
        {
          "output_type": "stream",
          "name": "stdout",
          "text": [
            "Matrix E:\n",
            "[[1 2 3]\n",
            " [4 5 6]\n",
            " [7 8 9]]\n",
            "Transpose of matrix E:\n",
            "[[1 4 7]\n",
            " [2 5 8]\n",
            " [3 6 9]]\n"
          ]
        }
      ],
      "source": [
        "# 83. Create a matrix E and find its transpose.\n",
        "\n",
        "# code\n",
        "\n",
        "import numpy as np\n",
        "\n",
        "E = np.array([[1, 2, 3],\n",
        "              [4, 5, 6],\n",
        "              [7, 8, 9]])\n",
        "\n",
        "print(\"Matrix E:\")\n",
        "print(E)\n",
        "\n",
        "E_T = E.T\n",
        "\n",
        "print(\"Transpose of matrix E:\")\n",
        "print(E_T)"
      ]
    },
    {
      "cell_type": "code",
      "execution_count": 85,
      "id": "4aa52974-053a-4f6e-a2cd-f5312d6b28dc",
      "metadata": {
        "colab": {
          "base_uri": "https://localhost:8080/"
        },
        "id": "4aa52974-053a-4f6e-a2cd-f5312d6b28dc",
        "outputId": "7ba9df27-4ca4-4b0b-bfcd-29f33e4fe333"
      },
      "outputs": [
        {
          "output_type": "stream",
          "name": "stdout",
          "text": [
            "Matrix F:\n",
            "[[8 1 1 8]\n",
            " [6 9 5 2]\n",
            " [5 8 5 1]\n",
            " [3 6 1 2]]\n",
            "\n",
            "Determinant of matrix F:\n",
            "2.0000000000000284\n"
          ]
        }
      ],
      "source": [
        "# 84. Generate a square matrix `F` and compute its determinant\n",
        "\n",
        "# code\n",
        "\n",
        "import numpy as np\n",
        "\n",
        "F = np.random.randint(1, 10, size=(4, 4))\n",
        "print(\"Matrix F:\")\n",
        "print(F)\n",
        "\n",
        "determinant = np.linalg.det(F)\n",
        "\n",
        "print(\"\\nDeterminant of matrix F:\")\n",
        "print(determinant)\n"
      ]
    },
    {
      "cell_type": "code",
      "execution_count": 86,
      "id": "0bcd664c-dced-4b4a-903a-528fd2bdf170",
      "metadata": {
        "colab": {
          "base_uri": "https://localhost:8080/"
        },
        "id": "0bcd664c-dced-4b4a-903a-528fd2bdf170",
        "outputId": "d55b8405-67d7-406d-b104-189ebf59c5b8"
      },
      "outputs": [
        {
          "output_type": "stream",
          "name": "stdout",
          "text": [
            "Matrix G:\n",
            "[[8 9 9]\n",
            " [7 9 3]\n",
            " [7 5 6]]\n",
            "\n",
            "Inverse of matrix G:\n",
            "[[-0.30232558  0.06976744  0.41860465]\n",
            " [ 0.1627907   0.11627907 -0.30232558]\n",
            " [ 0.21705426 -0.17829457 -0.06976744]]\n"
          ]
        }
      ],
      "source": [
        "# 85. Create a square matrix `G` and find its inverse.\n",
        "\n",
        "# code\n",
        "\n",
        "import numpy as np\n",
        "\n",
        "G = np.random.randint(1, 10, size=(3, 3))\n",
        "print(\"Matrix G:\")\n",
        "print(G)\n",
        "\n",
        "inverse_G = np.linalg.inv(G)\n",
        "\n",
        "print(\"\\nInverse of matrix G:\")\n",
        "print(inverse_G)\n"
      ]
    }
  ],
  "metadata": {
    "kernelspec": {
      "display_name": "Python 3 (ipykernel)",
      "language": "python",
      "name": "python3"
    },
    "language_info": {
      "codemirror_mode": {
        "name": "ipython",
        "version": 3
      },
      "file_extension": ".py",
      "mimetype": "text/x-python",
      "name": "python",
      "nbconvert_exporter": "python",
      "pygments_lexer": "ipython3",
      "version": "3.10.8"
    },
    "colab": {
      "provenance": [],
      "include_colab_link": true
    }
  },
  "nbformat": 4,
  "nbformat_minor": 5
}